{
 "cells": [
  {
   "cell_type": "code",
   "execution_count": 1,
   "metadata": {
    "collapsed": false
   },
   "outputs": [
    {
     "name": "stdout",
     "output_type": "stream",
     "text": [
      "Waiting for redis server at 127.0.0.1:25208 to respond...\n",
      "Waiting for redis server at 127.0.0.1:61913 to respond...\n",
      "Starting local scheduler with 8 CPUs, 0 GPUs\n",
      "\n",
      "======================================================================\n",
      "View the web UI at http://localhost:8889/notebooks/ray_ui581.ipynb?token=7e39268a68ff53e6b05e2b0067efaff12795ff35c1841e55\n",
      "======================================================================\n",
      "\n"
     ]
    },
    {
     "data": {
      "text/plain": [
       "{'local_scheduler_socket_names': ['/tmp/scheduler18059451'],\n",
       " 'node_ip_address': '127.0.0.1',\n",
       " 'object_store_addresses': [ObjectStoreAddress(name='/tmp/plasma_store93849666', manager_name='/tmp/plasma_manager17217449', manager_port=14465)],\n",
       " 'redis_address': '127.0.0.1:25208',\n",
       " 'webui_url': 'http://localhost:8889/notebooks/ray_ui581.ipynb?token=7e39268a68ff53e6b05e2b0067efaff12795ff35c1841e55'}"
      ]
     },
     "execution_count": 1,
     "metadata": {},
     "output_type": "execute_result"
    }
   ],
   "source": [
    "import ray\n",
    "\n",
    "ray.init()"
   ]
  },
  {
   "cell_type": "code",
   "execution_count": 2,
   "metadata": {
    "collapsed": false
   },
   "outputs": [],
   "source": [
    "# store access to nodes by their global coordinate\n",
    "class MasterStore:\n",
    "    referenceStore = {\"dna\":{}, \"rna\":{}, \"individuals\":{}}\n",
    "    \n",
    "    def addGraph(self, datatype):\n",
    "        referenceStore[datatype] = {}\n",
    "    \n",
    "    def updateRef(self, datatype, key, value):\n",
    "        self.referenceStore[datatype][key] = value\n",
    "        \n",
    "    def getRef(self, datatype, key):\n",
    "        return self.referenceStore[datatype][key]\n",
    "    \n",
    "    def refExists(self, datatype, key):\n",
    "        return datatype in self.referenceStore and key in self.referenceStore[datatype]\n",
    "            \n",
    "# all communication to adjacent nodes goes through the master store\n",
    "masterStore = MasterStore()\n",
    "\n",
    "# a generic node.\n",
    "class Node:\n",
    "    def __init__(self, data, datatype, neighbors = set()):\n",
    "        self.data = data\n",
    "        self.datatype = datatype\n",
    "        self.neighbors = neighbors\n",
    "        self.interGraphLinks = {}\n",
    "        \n",
    "    def addNeighbor(self, newNeighbor):\n",
    "        self.neighbors.add(newNeighbor)\n",
    "        \n",
    "    def dropNeighbor(self, oldNeighbor):\n",
    "        self.neighbors.remove(oldNeighbor)\n",
    "\n",
    "    def addInterGraphLink(self, datatype, key):\n",
    "        if datatype in self.interGraphLinks:\n",
    "            if key not in self.interGraphLinks[datatype]:\n",
    "                self.interGraphLinks[datatype].append(key)\n",
    "        else:\n",
    "            self.interGraphLinks[datatype] = [key]\n",
    "    \n",
    "    def merge(self, otherNode):\n",
    "        for i in otherNode.neighbors:\n",
    "            self.addNeighbor(i)\n",
    "        \n",
    "        for key, value in otherNode.interGraphLinks.items():\n",
    "            for link in value:\n",
    "                self.addInterGraphLink(key, link)\n"
   ]
  },
  {
   "cell_type": "code",
   "execution_count": 3,
   "metadata": {
    "collapsed": false
   },
   "outputs": [],
   "source": [
    "# sample reference genome\n",
    "referenceGenome = \"CAGTCCTAGCTACGCTCTATCCTCTCAGAGGACCGATCGATATACGCGTGAAACTAGTGCACTAGACTCGAACTGA\"\n",
    "\n",
    "# sample test data for DNA operations\n",
    "dnaTestData = [{\"individualID\":0, \"dnaData\":\n",
    "                [{\"coordinateStart\":7.1, \"coordinateStop\":8.0, \"variantAllele\": \"C\"},\n",
    "                 {\"coordinateStart\":12.2, \"coordinateStop\":13.0, \"variantAllele\": \"T\"},\n",
    "                 {\"coordinateStart\":26.2222, \"coordinateStop\":27.0, \"variantAllele\": \"TTTT\"}]},\n",
    "               {\"individualID\":1, \"dnaData\":\n",
    "                [{\"coordinateStart\":7.2, \"coordinateStop\":8.0, \"variantAllele\": \"G\"},\n",
    "                 {\"coordinateStart\":12.2, \"coordinateStop\":13.0, \"variantAllele\": \"T\"}]}]\n",
    "\n",
    "# individual IDs\n",
    "individuals = {0: {\"Name\":\"John Doe\", \"Gender\":\"M\"}, 1:{\"Name\":\"Jane Doe\", \"Gender\":\"M\"}}\n",
    "\n",
    "def buildIndividualsGraph(individuals, masterStore):\n",
    "    for indivID, data in individuals.items():\n",
    "        node = Node(data, \"individuals\")\n",
    "        masterStore.updateRef(\"individuals\", indivID, node)\n",
    "\n",
    "buildIndividualsGraph(individuals, masterStore)"
   ]
  },
  {
   "cell_type": "code",
   "execution_count": 4,
   "metadata": {
    "collapsed": false
   },
   "outputs": [],
   "source": [
    "def buildDnaGraph(referenceGenome, dnaTestData, masterStore):\n",
    "    # start building the graph\n",
    "    for i in range(len(referenceGenome)):\n",
    "        # store the coordinates of neighboring nodes\n",
    "        neighbors = set(filter(lambda x: x >= 0.0, \n",
    "                               [float(i-1), float(i+1)]))\n",
    "        # create a new node\n",
    "        node = Node(referenceGenome[i], \"dna\", neighbors)\n",
    "\n",
    "        # store a link to the object in the masterStore\n",
    "        masterStore.updateRef(\"dna\", float(i), node)\n",
    "\n",
    "    for indiv in dnaTestData:\n",
    "        for variant in indiv[\"dnaData\"]:\n",
    "            # store the coordinates of neighboring nodes\n",
    "            neighbors = set(filter(lambda x: x >= 0.0, \n",
    "                                   [float(int(variant[\"coordinateStart\"] - 1)), \n",
    "                                    variant[\"coordinateStop\"]]))\n",
    "\n",
    "            # create a new node for the individual data\n",
    "            node = Node(variant[\"variantAllele\"], \n",
    "                        \"dna\",\n",
    "                        neighbors)\n",
    "\n",
    "            node.addInterGraphLink(\"individuals\", indiv[\"individualID\"])\n",
    "            \n",
    "            if(masterStore.refExists(\"dna\", variant[\"coordinateStart\"])):\n",
    "                node.merge(masterStore.getRef(\"dna\", variant[\"coordinateStart\"]))\n",
    "\n",
    "            for neighbor in neighbors:\n",
    "                if(masterStore.refExists(\"dna\", neighbor)):\n",
    "                    tempNode = masterStore.getRef(\"dna\", neighbor)\n",
    "                    tempNode.addNeighbor(variant[\"coordinateStart\"])\n",
    "                    \n",
    "            indivNode = masterStore.getRef(\"individuals\", indiv[\"individualID\"])\n",
    "            indivNode.addInterGraphLink(\"dna\", variant[\"coordinateStart\"])\n",
    "            \n",
    "            masterStore.updateRef(\"dna\", variant[\"coordinateStart\"], node)\n",
    "\n",
    "# build the graph\n",
    "buildDnaGraph(referenceGenome, dnaTestData, masterStore)"
   ]
  },
  {
   "cell_type": "code",
   "execution_count": 5,
   "metadata": {
    "collapsed": false
   },
   "outputs": [
    {
     "name": "stdout",
     "output_type": "stream",
     "text": [
      "{'dna': {0.0: <__main__.Node object at 0x1037bad30>, 1.0: <__main__.Node object at 0x1037bac50>, 2.0: <__main__.Node object at 0x1037ba860>, 3.0: <__main__.Node object at 0x1037ba6d8>, 4.0: <__main__.Node object at 0x1037bab00>, 5.0: <__main__.Node object at 0x1037bac18>, 6.0: <__main__.Node object at 0x1037babe0>, 7.0: <__main__.Node object at 0x1037ba7b8>, 8.0: <__main__.Node object at 0x1037ba9b0>, 9.0: <__main__.Node object at 0x1037ba400>, 10.0: <__main__.Node object at 0x1037bacc0>, 11.0: <__main__.Node object at 0x1037baba8>, 12.0: <__main__.Node object at 0x1037ba9e8>, 13.0: <__main__.Node object at 0x1037ba5f8>, 14.0: <__main__.Node object at 0x1037ba080>, 15.0: <__main__.Node object at 0x1037ba240>, 16.0: <__main__.Node object at 0x1037ba208>, 17.0: <__main__.Node object at 0x1037ba518>, 18.0: <__main__.Node object at 0x1037ba320>, 19.0: <__main__.Node object at 0x1037bae10>, 20.0: <__main__.Node object at 0x1037ba470>, 21.0: <__main__.Node object at 0x1037ba128>, 22.0: <__main__.Node object at 0x1037ba780>, 23.0: <__main__.Node object at 0x1037bae48>, 24.0: <__main__.Node object at 0x1037baeb8>, 25.0: <__main__.Node object at 0x1037baef0>, 26.0: <__main__.Node object at 0x1037ba7f0>, 27.0: <__main__.Node object at 0x1037ba828>, 28.0: <__main__.Node object at 0x1037ba2e8>, 29.0: <__main__.Node object at 0x1037bab70>, 30.0: <__main__.Node object at 0x1037ba6a0>, 31.0: <__main__.Node object at 0x1037ba2b0>, 32.0: <__main__.Node object at 0x1037baf28>, 33.0: <__main__.Node object at 0x1037bae80>, 34.0: <__main__.Node object at 0x102409320>, 35.0: <__main__.Node object at 0x102409b00>, 36.0: <__main__.Node object at 0x1024090f0>, 37.0: <__main__.Node object at 0x10379aac8>, 38.0: <__main__.Node object at 0x10379add8>, 39.0: <__main__.Node object at 0x10379aef0>, 40.0: <__main__.Node object at 0x10379ac88>, 41.0: <__main__.Node object at 0x10379a9b0>, 42.0: <__main__.Node object at 0x10379af60>, 43.0: <__main__.Node object at 0x10379abe0>, 44.0: <__main__.Node object at 0x1037c81d0>, 45.0: <__main__.Node object at 0x1037c8278>, 46.0: <__main__.Node object at 0x1037c8320>, 47.0: <__main__.Node object at 0x1037c8128>, 48.0: <__main__.Node object at 0x1037c8208>, 49.0: <__main__.Node object at 0x1037c8358>, 50.0: <__main__.Node object at 0x1037c8240>, 51.0: <__main__.Node object at 0x1037c8048>, 52.0: <__main__.Node object at 0x1037c82b0>, 53.0: <__main__.Node object at 0x1037c82e8>, 54.0: <__main__.Node object at 0x1037c80f0>, 55.0: <__main__.Node object at 0x1037c8198>, 56.0: <__main__.Node object at 0x1037c8080>, 57.0: <__main__.Node object at 0x1037c8390>, 58.0: <__main__.Node object at 0x1037c8470>, 59.0: <__main__.Node object at 0x1037c8860>, 60.0: <__main__.Node object at 0x1037c8828>, 61.0: <__main__.Node object at 0x1037c8940>, 62.0: <__main__.Node object at 0x1037c88d0>, 63.0: <__main__.Node object at 0x1037c8898>, 64.0: <__main__.Node object at 0x1037c87f0>, 65.0: <__main__.Node object at 0x1037c8908>, 66.0: <__main__.Node object at 0x1037c8978>, 67.0: <__main__.Node object at 0x1037c89e8>, 68.0: <__main__.Node object at 0x1037c84e0>, 69.0: <__main__.Node object at 0x1037c8630>, 70.0: <__main__.Node object at 0x1037c8a20>, 71.0: <__main__.Node object at 0x1037c89b0>, 72.0: <__main__.Node object at 0x1037c8710>, 73.0: <__main__.Node object at 0x1037c8748>, 74.0: <__main__.Node object at 0x1037c87b8>, 75.0: <__main__.Node object at 0x1037c84a8>, 7.1: <__main__.Node object at 0x1037c8400>, 12.2: <__main__.Node object at 0x1037c86a0>, 26.2222: <__main__.Node object at 0x1037c83c8>, 7.2: <__main__.Node object at 0x1037c8668>}, 'rna': {}, 'individuals': {0: <__main__.Node object at 0x1037c85f8>, 1: <__main__.Node object at 0x1037c8a58>}}\n"
     ]
    }
   ],
   "source": [
    "print(masterStore.referenceStore)"
   ]
  },
  {
   "cell_type": "code",
   "execution_count": 6,
   "metadata": {
    "collapsed": false
   },
   "outputs": [
    {
     "name": "stdout",
     "output_type": "stream",
     "text": [
      "0.0\tC\t{}\n",
      "1.0\tA\t{}\n",
      "2.0\tG\t{}\n",
      "3.0\tT\t{}\n",
      "4.0\tC\t{}\n",
      "5.0\tC\t{}\n",
      "6.0\tT\t{}\n",
      "7.2\tG\t{'individuals': [1]}\n",
      "7.1\tC\t{'individuals': [0]}\n",
      "7.0\tA\t{}\n",
      "8.0\tG\t{}\n",
      "9.0\tC\t{}\n",
      "10.0\tT\t{}\n",
      "11.0\tA\t{}\n",
      "12.0\tC\t{}\n",
      "12.2\tT\t{'individuals': [1, 0]}\n",
      "13.0\tG\t{}\n",
      "14.0\tC\t{}\n",
      "15.0\tT\t{}\n",
      "16.0\tC\t{}\n",
      "17.0\tT\t{}\n",
      "18.0\tA\t{}\n",
      "19.0\tT\t{}\n",
      "20.0\tC\t{}\n",
      "21.0\tC\t{}\n",
      "22.0\tT\t{}\n",
      "23.0\tC\t{}\n",
      "24.0\tT\t{}\n",
      "25.0\tC\t{}\n",
      "26.0\tA\t{}\n",
      "26.2222\tTTTT\t{'individuals': [0]}\n",
      "27.0\tG\t{}\n",
      "28.0\tA\t{}\n",
      "29.0\tG\t{}\n",
      "30.0\tG\t{}\n",
      "31.0\tA\t{}\n",
      "32.0\tC\t{}\n",
      "33.0\tC\t{}\n",
      "34.0\tG\t{}\n",
      "35.0\tA\t{}\n",
      "36.0\tT\t{}\n",
      "37.0\tC\t{}\n",
      "38.0\tG\t{}\n",
      "39.0\tA\t{}\n",
      "40.0\tT\t{}\n",
      "41.0\tA\t{}\n",
      "42.0\tT\t{}\n",
      "43.0\tA\t{}\n",
      "44.0\tC\t{}\n",
      "45.0\tG\t{}\n",
      "46.0\tC\t{}\n",
      "47.0\tG\t{}\n",
      "48.0\tT\t{}\n",
      "49.0\tG\t{}\n",
      "50.0\tA\t{}\n",
      "51.0\tA\t{}\n",
      "52.0\tA\t{}\n",
      "53.0\tC\t{}\n",
      "54.0\tT\t{}\n",
      "55.0\tA\t{}\n",
      "56.0\tG\t{}\n",
      "57.0\tT\t{}\n",
      "58.0\tG\t{}\n",
      "59.0\tC\t{}\n",
      "60.0\tA\t{}\n",
      "61.0\tC\t{}\n",
      "62.0\tT\t{}\n",
      "63.0\tA\t{}\n",
      "64.0\tG\t{}\n",
      "65.0\tA\t{}\n",
      "66.0\tC\t{}\n",
      "67.0\tT\t{}\n",
      "68.0\tC\t{}\n",
      "69.0\tG\t{}\n",
      "70.0\tA\t{}\n",
      "71.0\tA\t{}\n",
      "72.0\tC\t{}\n",
      "73.0\tT\t{}\n",
      "74.0\tG\t{}\n",
      "75.0\tA\t{}\n"
     ]
    }
   ],
   "source": [
    "def bfs(graphName, startNodeID):\n",
    "    q = [startNodeID]\n",
    "    visited = []\n",
    "\n",
    "    while(q and masterStore.refExists(graphName, q[0])):\n",
    "        currentKey = q[0]\n",
    "        q.remove(currentKey)\n",
    "        visited.append(currentKey)\n",
    "        \n",
    "        node = masterStore.getRef(graphName, currentKey)\n",
    "        print(str(currentKey) + \"\\t\" + str(node.data) + \"\\t\" + str(node.interGraphLinks))\n",
    "        \n",
    "        for i in node.neighbors:\n",
    "            if i not in visited and i not in q:\n",
    "                q.append(i)\n",
    "\n",
    "# traverse our new graph to look at\n",
    "bfs(\"dna\", 0.0)"
   ]
  },
  {
   "cell_type": "code",
   "execution_count": 7,
   "metadata": {
    "collapsed": false
   },
   "outputs": [
    {
     "name": "stdout",
     "output_type": "stream",
     "text": [
      "{'dna': [7.1, 12.2, 26.2222]}\n",
      "{'dna': [7.2, 12.2]}\n"
     ]
    }
   ],
   "source": [
    "print(masterStore.referenceStore[\"individuals\"][0].interGraphLinks)\n",
    "print(masterStore.referenceStore[\"individuals\"][1].interGraphLinks)"
   ]
  },
  {
   "cell_type": "code",
   "execution_count": 8,
   "metadata": {
    "collapsed": false
   },
   "outputs": [],
   "source": [
    "def moveToRay(masterStore):\n",
    "    for graph in masterStore.referenceStore:\n",
    "        for node in masterStore.referenceStore[graph]:\n",
    "            oid = ray.put(masterStore.referenceStore[graph][node])\n",
    "            masterStore.referenceStore[graph][node] = oid"
   ]
  },
  {
   "cell_type": "code",
   "execution_count": 9,
   "metadata": {
    "collapsed": false
   },
   "outputs": [
    {
     "name": "stdout",
     "output_type": "stream",
     "text": [
      "<__main__.Node object at 0x1037c85f8>\n",
      "<__main__.Node object at 0x1037c8a58>\n"
     ]
    },
    {
     "ename": "Exception",
     "evalue": "Attempting to call `get` on the value <__main__.Node object at 0x1037c85f8>, which is not an ObjectID.",
     "output_type": "error",
     "traceback": [
      "\u001b[0;31m---------------------------------------------------------------------------\u001b[0m",
      "\u001b[0;31mException\u001b[0m                                 Traceback (most recent call last)",
      "\u001b[0;32m<ipython-input-9-22fc52cd5466>\u001b[0m in \u001b[0;36m<module>\u001b[0;34m()\u001b[0m\n\u001b[1;32m      2\u001b[0m \u001b[0mprint\u001b[0m\u001b[0;34m(\u001b[0m\u001b[0mmasterStore\u001b[0m\u001b[0;34m.\u001b[0m\u001b[0mreferenceStore\u001b[0m\u001b[0;34m[\u001b[0m\u001b[0;34m\"individuals\"\u001b[0m\u001b[0;34m]\u001b[0m\u001b[0;34m[\u001b[0m\u001b[0;36m1\u001b[0m\u001b[0;34m]\u001b[0m\u001b[0;34m)\u001b[0m\u001b[0;34m\u001b[0m\u001b[0m\n\u001b[1;32m      3\u001b[0m \u001b[0;34m\u001b[0m\u001b[0m\n\u001b[0;32m----> 4\u001b[0;31m \u001b[0mprint\u001b[0m\u001b[0;34m(\u001b[0m\u001b[0mray\u001b[0m\u001b[0;34m.\u001b[0m\u001b[0mget\u001b[0m\u001b[0;34m(\u001b[0m\u001b[0mmasterStore\u001b[0m\u001b[0;34m.\u001b[0m\u001b[0mreferenceStore\u001b[0m\u001b[0;34m[\u001b[0m\u001b[0;34m\"individuals\"\u001b[0m\u001b[0;34m]\u001b[0m\u001b[0;34m[\u001b[0m\u001b[0;36m0\u001b[0m\u001b[0;34m]\u001b[0m\u001b[0;34m)\u001b[0m\u001b[0;34m.\u001b[0m\u001b[0minterGraphLinks\u001b[0m\u001b[0;34m)\u001b[0m\u001b[0;34m\u001b[0m\u001b[0m\n\u001b[0m\u001b[1;32m      5\u001b[0m \u001b[0mprint\u001b[0m\u001b[0;34m(\u001b[0m\u001b[0mray\u001b[0m\u001b[0;34m.\u001b[0m\u001b[0mget\u001b[0m\u001b[0;34m(\u001b[0m\u001b[0mmasterStore\u001b[0m\u001b[0;34m.\u001b[0m\u001b[0mreferenceStore\u001b[0m\u001b[0;34m[\u001b[0m\u001b[0;34m\"individuals\"\u001b[0m\u001b[0;34m]\u001b[0m\u001b[0;34m[\u001b[0m\u001b[0;36m1\u001b[0m\u001b[0;34m]\u001b[0m\u001b[0;34m)\u001b[0m\u001b[0;34m.\u001b[0m\u001b[0minterGraphLinks\u001b[0m\u001b[0;34m)\u001b[0m\u001b[0;34m\u001b[0m\u001b[0m\n",
      "\u001b[0;32m~/anaconda/envs/python36/lib/python3.6/site-packages/ray/worker.py\u001b[0m in \u001b[0;36mget\u001b[0;34m(object_ids, worker)\u001b[0m\n\u001b[1;32m   2051\u001b[0m             \u001b[0;32mreturn\u001b[0m \u001b[0mvalues\u001b[0m\u001b[0;34m\u001b[0m\u001b[0m\n\u001b[1;32m   2052\u001b[0m         \u001b[0;32melse\u001b[0m\u001b[0;34m:\u001b[0m\u001b[0;34m\u001b[0m\u001b[0m\n\u001b[0;32m-> 2053\u001b[0;31m             \u001b[0mvalue\u001b[0m \u001b[0;34m=\u001b[0m \u001b[0mworker\u001b[0m\u001b[0;34m.\u001b[0m\u001b[0mget_object\u001b[0m\u001b[0;34m(\u001b[0m\u001b[0;34m[\u001b[0m\u001b[0mobject_ids\u001b[0m\u001b[0;34m]\u001b[0m\u001b[0;34m)\u001b[0m\u001b[0;34m[\u001b[0m\u001b[0;36m0\u001b[0m\u001b[0;34m]\u001b[0m\u001b[0;34m\u001b[0m\u001b[0m\n\u001b[0m\u001b[1;32m   2054\u001b[0m             \u001b[0;32mif\u001b[0m \u001b[0misinstance\u001b[0m\u001b[0;34m(\u001b[0m\u001b[0mvalue\u001b[0m\u001b[0;34m,\u001b[0m \u001b[0mRayTaskError\u001b[0m\u001b[0;34m)\u001b[0m\u001b[0;34m:\u001b[0m\u001b[0;34m\u001b[0m\u001b[0m\n\u001b[1;32m   2055\u001b[0m                 \u001b[0;31m# If the result is a RayTaskError, then the task that created\u001b[0m\u001b[0;34m\u001b[0m\u001b[0;34m\u001b[0m\u001b[0m\n",
      "\u001b[0;32m~/anaconda/envs/python36/lib/python3.6/site-packages/ray/worker.py\u001b[0m in \u001b[0;36mget_object\u001b[0;34m(self, object_ids)\u001b[0m\n\u001b[1;32m    392\u001b[0m             \u001b[0;32mif\u001b[0m \u001b[0;32mnot\u001b[0m \u001b[0misinstance\u001b[0m\u001b[0;34m(\u001b[0m\u001b[0mobject_id\u001b[0m\u001b[0;34m,\u001b[0m \u001b[0mray\u001b[0m\u001b[0;34m.\u001b[0m\u001b[0mlocal_scheduler\u001b[0m\u001b[0;34m.\u001b[0m\u001b[0mObjectID\u001b[0m\u001b[0;34m)\u001b[0m\u001b[0;34m:\u001b[0m\u001b[0;34m\u001b[0m\u001b[0m\n\u001b[1;32m    393\u001b[0m                 raise Exception(\"Attempting to call `get` on the value {}, \"\n\u001b[0;32m--> 394\u001b[0;31m                                 \"which is not an ObjectID.\".format(object_id))\n\u001b[0m\u001b[1;32m    395\u001b[0m         \u001b[0;31m# Do an initial fetch for remote objects. We divide the fetch into\u001b[0m\u001b[0;34m\u001b[0m\u001b[0;34m\u001b[0m\u001b[0m\n\u001b[1;32m    396\u001b[0m         \u001b[0;31m# smaller fetches so as to not block the manager for a prolonged period\u001b[0m\u001b[0;34m\u001b[0m\u001b[0;34m\u001b[0m\u001b[0m\n",
      "\u001b[0;31mException\u001b[0m: Attempting to call `get` on the value <__main__.Node object at 0x1037c85f8>, which is not an ObjectID."
     ]
    }
   ],
   "source": [
    "print(masterStore.referenceStore[\"individuals\"][0])\n",
    "print(masterStore.referenceStore[\"individuals\"][1])\n",
    "\n",
    "print(ray.get(masterStore.referenceStore[\"individuals\"][0]).interGraphLinks)\n",
    "print(ray.get(masterStore.referenceStore[\"individuals\"][1]).interGraphLinks)"
   ]
  },
  {
   "cell_type": "code",
   "execution_count": 38,
   "metadata": {
    "collapsed": false
   },
   "outputs": [
    {
     "name": "stdout",
     "output_type": "stream",
     "text": [
      "True\n"
     ]
    }
   ],
   "source": [
    "import ray.local_scheduler as local_scheduler\n",
    "\n",
    "print(isinstance(oid, local_scheduler.ObjectID))"
   ]
  },
  {
   "cell_type": "code",
   "execution_count": 15,
   "metadata": {
    "collapsed": false
   },
   "outputs": [
    {
     "ename": "ModuleNotFoundError",
     "evalue": "No module named 'pyarrow._parquet'",
     "output_type": "error",
     "traceback": [
      "\u001b[0;31m---------------------------------------------------------------------------\u001b[0m",
      "\u001b[0;31mModuleNotFoundError\u001b[0m                       Traceback (most recent call last)",
      "\u001b[0;32m<ipython-input-15-8a8b56c1170a>\u001b[0m in \u001b[0;36m<module>\u001b[0;34m()\u001b[0m\n\u001b[1;32m      1\u001b[0m \u001b[0;32mimport\u001b[0m \u001b[0mpyarrow\u001b[0m\u001b[0;34m\u001b[0m\u001b[0m\n\u001b[0;32m----> 2\u001b[0;31m \u001b[0;32mimport\u001b[0m \u001b[0mpyarrow\u001b[0m\u001b[0;34m.\u001b[0m\u001b[0mparquet\u001b[0m \u001b[0;32mas\u001b[0m \u001b[0mpq\u001b[0m\u001b[0;34m\u001b[0m\u001b[0m\n\u001b[0m",
      "\u001b[0;32m~/anaconda/envs/python36/lib/python3.6/site-packages/ray/pyarrow_files/pyarrow/parquet.py\u001b[0m in \u001b[0;36m<module>\u001b[0;34m()\u001b[0m\n\u001b[1;32m     25\u001b[0m \u001b[0;34m\u001b[0m\u001b[0m\n\u001b[1;32m     26\u001b[0m \u001b[0;32mfrom\u001b[0m \u001b[0mpyarrow\u001b[0m\u001b[0;34m.\u001b[0m\u001b[0mfilesystem\u001b[0m \u001b[0;32mimport\u001b[0m \u001b[0mFileSystem\u001b[0m\u001b[0;34m,\u001b[0m \u001b[0mLocalFileSystem\u001b[0m\u001b[0;34m,\u001b[0m \u001b[0mS3FSWrapper\u001b[0m\u001b[0;34m\u001b[0m\u001b[0m\n\u001b[0;32m---> 27\u001b[0;31m from pyarrow._parquet import (ParquetReader, FileMetaData,  # noqa\n\u001b[0m\u001b[1;32m     28\u001b[0m                               RowGroupMetaData, ParquetSchema)\n\u001b[1;32m     29\u001b[0m \u001b[0;32mimport\u001b[0m \u001b[0mpyarrow\u001b[0m\u001b[0;34m.\u001b[0m\u001b[0m_parquet\u001b[0m \u001b[0;32mas\u001b[0m \u001b[0m_parquet\u001b[0m  \u001b[0;31m# noqa\u001b[0m\u001b[0;34m\u001b[0m\u001b[0m\n",
      "\u001b[0;31mModuleNotFoundError\u001b[0m: No module named 'pyarrow._parquet'"
     ]
    }
   ],
   "source": [
    "import pyarrow\n",
    "import pyarrow.parquet as pq"
   ]
  },
  {
   "cell_type": "code",
   "execution_count": null,
   "metadata": {
    "collapsed": true
   },
   "outputs": [],
   "source": []
  }
 ],
 "metadata": {
  "kernelspec": {
   "display_name": "Python 3",
   "language": "python",
   "name": "python3"
  },
  "language_info": {
   "codemirror_mode": {
    "name": "ipython",
    "version": 3
   },
   "file_extension": ".py",
   "mimetype": "text/x-python",
   "name": "python",
   "nbconvert_exporter": "python",
   "pygments_lexer": "ipython3",
   "version": "3.6.2"
  }
 },
 "nbformat": 4,
 "nbformat_minor": 0
}
