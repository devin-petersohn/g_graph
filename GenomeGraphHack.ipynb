{
 "cells": [
  {
   "cell_type": "code",
   "execution_count": 58,
   "metadata": {
    "collapsed": false
   },
   "outputs": [],
   "source": [
    "# store access to nodes by their global coordinate\n",
    "class MasterStore:\n",
    "    referenceStore = {\"dna\":{}, \"rna\":{}, \"individuals\":{}}\n",
    "    \n",
    "    def addGraph(self, datatype):\n",
    "        referenceStore[datatype] = {}\n",
    "    \n",
    "    def updateRef(self, datatype, key, value):\n",
    "        self.referenceStore[datatype][key] = value\n",
    "        \n",
    "    def getRef(self, datatype, key):\n",
    "        return self.referenceStore[datatype][key]\n",
    "    \n",
    "    def refExists(self, datatype, key):\n",
    "        return datatype in self.referenceStore and key in self.referenceStore[datatype]\n",
    "            \n",
    "# all communication to adjacent nodes goes through the master store\n",
    "masterStore = MasterStore()\n",
    "\n",
    "# a generic node.\n",
    "class Node:\n",
    "    def __init__(self, data, datatype, neighbors = set()):\n",
    "        self.data = data\n",
    "        self.datatype = datatype\n",
    "        self.neighbors = neighbors\n",
    "        self.interGraphLinks = {}\n",
    "        \n",
    "    def addNeighbor(self, newNeighbor):\n",
    "        self.neighbors.add(newNeighbor)\n",
    "        \n",
    "    def dropNeighbor(self, oldNeighbor):\n",
    "        self.neighbors.remove(oldNeighbor)\n",
    "\n",
    "    def addInterGraphLink(self, datatype, key):\n",
    "        if datatype in self.interGraphLinks:\n",
    "            if key not in self.interGraphLinks[datatype]:\n",
    "                self.interGraphLinks[datatype].append(key)\n",
    "        else:\n",
    "            self.interGraphLinks[datatype] = [key]\n",
    "    \n",
    "    def merge(self, otherNode):\n",
    "        for i in otherNode.neighbors:\n",
    "            self.addNeighbor(i)\n",
    "        \n",
    "        for key, value in otherNode.interGraphLinks.items():\n",
    "            for link in value:\n",
    "                self.addInterGraphLink(key, link)\n",
    "            "
   ]
  },
  {
   "cell_type": "code",
   "execution_count": 59,
   "metadata": {
    "collapsed": false
   },
   "outputs": [],
   "source": [
    "# sample reference genome\n",
    "referenceGenome = \"CAGTCCTAGCTACGCTCTATCCTCTCAGAGGACCGATCGATATACGCGTGAAACTAGTGCACTAGACTCGAACTGA\"\n",
    "\n",
    "# sample test data for DNA operations\n",
    "dnaTestData = [{\"individualID\":0, \"dnaData\":\n",
    "                [{\"coordinateStart\":7.1, \"coordinateStop\":8.0, \"variantAllele\": \"C\"},\n",
    "                 {\"coordinateStart\":12.2, \"coordinateStop\":13.0, \"variantAllele\": \"T\"},\n",
    "                 {\"coordinateStart\":26.2222, \"coordinateStop\":27.0, \"variantAllele\": \"TTTT\"}]},\n",
    "               {\"individualID\":1, \"dnaData\":\n",
    "                [{\"coordinateStart\":7.2, \"coordinateStop\":8.0, \"variantAllele\": \"G\"},\n",
    "                 {\"coordinateStart\":12.2, \"coordinateStop\":13.0, \"variantAllele\": \"T\"}]}]\n",
    "\n",
    "# individual IDs\n",
    "individuals = {0: {\"Name\":\"John Doe\", \"Gender\":\"M\"}, 1:{\"Name\":\"Jane Doe\", \"Gender\":\"M\"}}\n",
    "\n",
    "def buildIndividualsGraph(individuals, masterStore):\n",
    "    for indivID, data in individuals.items():\n",
    "        node = Node(data, \"individuals\")\n",
    "        masterStore.updateRef(\"individuals\", indivID, node)\n",
    "\n",
    "buildIndividualsGraph(individuals, masterStore)"
   ]
  },
  {
   "cell_type": "code",
   "execution_count": 61,
   "metadata": {
    "collapsed": false
   },
   "outputs": [],
   "source": [
    "def buildDnaGraph(referenceGenome, dnaTestData, masterStore):\n",
    "    # start building the graph\n",
    "    for i in range(len(referenceGenome)):\n",
    "        # store the coordinates of neighboring nodes\n",
    "        neighbors = set(filter(lambda x: x >= 0.0, \n",
    "                               [float(i-1), float(i+1)]))\n",
    "        # create a new node\n",
    "        node = Node(referenceGenome[i], \"dna\", neighbors)\n",
    "\n",
    "        # store a link to the object in the masterStore\n",
    "        masterStore.updateRef(\"dna\", float(i), node)\n",
    "\n",
    "    for indiv in dnaTestData:\n",
    "        for variant in indiv[\"dnaData\"]:\n",
    "            # store the coordinates of neighboring nodes\n",
    "            neighbors = set(filter(lambda x: x >= 0.0, \n",
    "                                   [float(int(variant[\"coordinateStart\"] - 1)), \n",
    "                                    variant[\"coordinateStop\"]]))\n",
    "\n",
    "            # create a new node for the individual data\n",
    "            node = Node(variant[\"variantAllele\"], \n",
    "                        \"dna\",\n",
    "                        neighbors)\n",
    "\n",
    "            node.addInterGraphLink(\"individuals\", indiv[\"individualID\"])\n",
    "            \n",
    "            if(masterStore.refExists(\"dna\", variant[\"coordinateStart\"])):\n",
    "                node.merge(masterStore.getRef(\"dna\", variant[\"coordinateStart\"]))\n",
    "\n",
    "            for neighbor in neighbors:\n",
    "                if(masterStore.refExists(\"dna\", neighbor)):\n",
    "                    tempNode = masterStore.getRef(\"dna\", neighbor)\n",
    "                    tempNode.addNeighbor(variant[\"coordinateStart\"])\n",
    "                    \n",
    "            indivNode = masterStore.getRef(\"individuals\", indiv[\"individualID\"])\n",
    "            indivNode.addInterGraphLink(\"dna\", variant[\"coordinateStart\"])\n",
    "            \n",
    "            masterStore.updateRef(\"dna\", variant[\"coordinateStart\"], node)\n",
    "\n",
    "# build the graph\n",
    "buildDnaGraph(referenceGenome, dnaTestData, masterStore)"
   ]
  },
  {
   "cell_type": "code",
   "execution_count": 62,
   "metadata": {
    "collapsed": false
   },
   "outputs": [
    {
     "name": "stdout",
     "output_type": "stream",
     "text": [
      "{'dna': {0.0: <__main__.Node object at 0x1071dc7f0>, 1.0: <__main__.Node object at 0x1071dc668>, 2.0: <__main__.Node object at 0x1071dcf98>, 3.0: <__main__.Node object at 0x1071dc400>, 4.0: <__main__.Node object at 0x1071dc828>, 5.0: <__main__.Node object at 0x1071dc6a0>, 6.0: <__main__.Node object at 0x1071dca20>, 7.0: <__main__.Node object at 0x1071dccf8>, 8.0: <__main__.Node object at 0x1071dce80>, 9.0: <__main__.Node object at 0x1071dcd68>, 10.0: <__main__.Node object at 0x1071dceb8>, 11.0: <__main__.Node object at 0x1071dc1d0>, 12.0: <__main__.Node object at 0x1071dc128>, 13.0: <__main__.Node object at 0x1071d3a58>, 14.0: <__main__.Node object at 0x1071d3668>, 15.0: <__main__.Node object at 0x1071d3588>, 16.0: <__main__.Node object at 0x1071d3da0>, 17.0: <__main__.Node object at 0x1071d3358>, 18.0: <__main__.Node object at 0x1071d3518>, 19.0: <__main__.Node object at 0x1071d39e8>, 20.0: <__main__.Node object at 0x1071d3f98>, 21.0: <__main__.Node object at 0x1071d3240>, 22.0: <__main__.Node object at 0x1071d39b0>, 23.0: <__main__.Node object at 0x1071d3908>, 24.0: <__main__.Node object at 0x1071d3160>, 25.0: <__main__.Node object at 0x1071d3048>, 26.0: <__main__.Node object at 0x1071d3198>, 27.0: <__main__.Node object at 0x1071d3438>, 28.0: <__main__.Node object at 0x1071d35f8>, 29.0: <__main__.Node object at 0x1071d3b38>, 30.0: <__main__.Node object at 0x1071d31d0>, 31.0: <__main__.Node object at 0x1071d3f60>, 32.0: <__main__.Node object at 0x1071d3940>, 33.0: <__main__.Node object at 0x1071d3550>, 34.0: <__main__.Node object at 0x1071d3400>, 35.0: <__main__.Node object at 0x1071d3710>, 36.0: <__main__.Node object at 0x1071d3eb8>, 37.0: <__main__.Node object at 0x1071d3470>, 38.0: <__main__.Node object at 0x1071d3208>, 39.0: <__main__.Node object at 0x1071d3978>, 40.0: <__main__.Node object at 0x1071d30f0>, 41.0: <__main__.Node object at 0x1071d3b00>, 42.0: <__main__.Node object at 0x1071d3fd0>, 43.0: <__main__.Node object at 0x1071d38d0>, 44.0: <__main__.Node object at 0x1071d3c88>, 45.0: <__main__.Node object at 0x1071d33c8>, 46.0: <__main__.Node object at 0x1071d3b70>, 47.0: <__main__.Node object at 0x1071d3320>, 48.0: <__main__.Node object at 0x1071d3278>, 49.0: <__main__.Node object at 0x1071d34a8>, 50.0: <__main__.Node object at 0x1071d32e8>, 51.0: <__main__.Node object at 0x1071d3dd8>, 52.0: <__main__.Node object at 0x1071d3be0>, 53.0: <__main__.Node object at 0x1071d3e10>, 54.0: <__main__.Node object at 0x1071d3c50>, 55.0: <__main__.Node object at 0x1071d3a20>, 56.0: <__main__.Node object at 0x1071d3e80>, 57.0: <__main__.Node object at 0x1071d3ac8>, 58.0: <__main__.Node object at 0x1071d3128>, 59.0: <__main__.Node object at 0x1071d3cf8>, 60.0: <__main__.Node object at 0x1071d34e0>, 61.0: <__main__.Node object at 0x1071d3898>, 62.0: <__main__.Node object at 0x1071d3ba8>, 63.0: <__main__.Node object at 0x1071d3a90>, 64.0: <__main__.Node object at 0x1071d3d30>, 65.0: <__main__.Node object at 0x1071d3080>, 66.0: <__main__.Node object at 0x1071dc160>, 67.0: <__main__.Node object at 0x1071dc080>, 68.0: <__main__.Node object at 0x1071dcef0>, 69.0: <__main__.Node object at 0x1071dc588>, 70.0: <__main__.Node object at 0x1071dc0b8>, 71.0: <__main__.Node object at 0x1071dc908>, 72.0: <__main__.Node object at 0x1071dc0f0>, 73.0: <__main__.Node object at 0x1071dcfd0>, 74.0: <__main__.Node object at 0x1071dcc18>, 75.0: <__main__.Node object at 0x107148588>, 7.1: <__main__.Node object at 0x107148828>, 12.2: <__main__.Node object at 0x1071488d0>, 26.2222: <__main__.Node object at 0x1071482b0>, 7.2: <__main__.Node object at 0x107148ef0>}, 'rna': {}, 'individuals': {0: <__main__.Node object at 0x1071c8390>, 1: <__main__.Node object at 0x1071c8400>}}\n"
     ]
    }
   ],
   "source": [
    "print(masterStore.referenceStore)"
   ]
  },
  {
   "cell_type": "code",
   "execution_count": 63,
   "metadata": {
    "collapsed": false
   },
   "outputs": [
    {
     "name": "stdout",
     "output_type": "stream",
     "text": [
      "0.0\tC\t{}\n",
      "1.0\tA\t{}\n",
      "2.0\tG\t{}\n",
      "3.0\tT\t{}\n",
      "4.0\tC\t{}\n",
      "5.0\tC\t{}\n",
      "6.0\tT\t{}\n",
      "7.2\tG\t{'individuals': [1]}\n",
      "7.1\tC\t{'individuals': [0]}\n",
      "7.0\tA\t{}\n",
      "8.0\tG\t{}\n",
      "9.0\tC\t{}\n",
      "10.0\tT\t{}\n",
      "11.0\tA\t{}\n",
      "12.0\tC\t{}\n",
      "12.2\tT\t{'individuals': [1, 0]}\n",
      "13.0\tG\t{}\n",
      "14.0\tC\t{}\n",
      "15.0\tT\t{}\n",
      "16.0\tC\t{}\n",
      "17.0\tT\t{}\n",
      "18.0\tA\t{}\n",
      "19.0\tT\t{}\n",
      "20.0\tC\t{}\n",
      "21.0\tC\t{}\n",
      "22.0\tT\t{}\n",
      "23.0\tC\t{}\n",
      "24.0\tT\t{}\n",
      "25.0\tC\t{}\n",
      "26.0\tA\t{}\n",
      "26.2222\tTTTT\t{'individuals': [0]}\n",
      "27.0\tG\t{}\n",
      "28.0\tA\t{}\n",
      "29.0\tG\t{}\n",
      "30.0\tG\t{}\n",
      "31.0\tA\t{}\n",
      "32.0\tC\t{}\n",
      "33.0\tC\t{}\n",
      "34.0\tG\t{}\n",
      "35.0\tA\t{}\n",
      "36.0\tT\t{}\n",
      "37.0\tC\t{}\n",
      "38.0\tG\t{}\n",
      "39.0\tA\t{}\n",
      "40.0\tT\t{}\n",
      "41.0\tA\t{}\n",
      "42.0\tT\t{}\n",
      "43.0\tA\t{}\n",
      "44.0\tC\t{}\n",
      "45.0\tG\t{}\n",
      "46.0\tC\t{}\n",
      "47.0\tG\t{}\n",
      "48.0\tT\t{}\n",
      "49.0\tG\t{}\n",
      "50.0\tA\t{}\n",
      "51.0\tA\t{}\n",
      "52.0\tA\t{}\n",
      "53.0\tC\t{}\n",
      "54.0\tT\t{}\n",
      "55.0\tA\t{}\n",
      "56.0\tG\t{}\n",
      "57.0\tT\t{}\n",
      "58.0\tG\t{}\n",
      "59.0\tC\t{}\n",
      "60.0\tA\t{}\n",
      "61.0\tC\t{}\n",
      "62.0\tT\t{}\n",
      "63.0\tA\t{}\n",
      "64.0\tG\t{}\n",
      "65.0\tA\t{}\n",
      "66.0\tC\t{}\n",
      "67.0\tT\t{}\n",
      "68.0\tC\t{}\n",
      "69.0\tG\t{}\n",
      "70.0\tA\t{}\n",
      "71.0\tA\t{}\n",
      "72.0\tC\t{}\n",
      "73.0\tT\t{}\n",
      "74.0\tG\t{}\n",
      "75.0\tA\t{}\n"
     ]
    }
   ],
   "source": [
    "def dfs(graphName, startNodeID):\n",
    "    q = [startNodeID]\n",
    "    visited = []\n",
    "\n",
    "    while(q and masterStore.refExists(graphName, q[0])):\n",
    "        currentKey = q[0]\n",
    "        q.remove(currentKey)\n",
    "        visited.append(currentKey)\n",
    "        \n",
    "        node = masterStore.getRef(graphName, currentKey)\n",
    "        print(str(currentKey) + \"\\t\" + str(node.data) + \"\\t\" + str(node.interGraphLinks))\n",
    "        \n",
    "        for i in node.neighbors:\n",
    "            if i not in visited and i not in q:\n",
    "                q.append(i)\n",
    "\n",
    "# traverse our new graph to look at\n",
    "dfs(\"dna\", 0.0)"
   ]
  },
  {
   "cell_type": "code",
   "execution_count": 65,
   "metadata": {
    "collapsed": false
   },
   "outputs": [
    {
     "name": "stdout",
     "output_type": "stream",
     "text": [
      "{'dna': [7.1, 12.2, 26.2222]}\n",
      "{'dna': [7.2, 12.2]}\n"
     ]
    }
   ],
   "source": [
    "print(masterStore.referenceStore[\"individuals\"][0].interGraphLinks)\n",
    "print(masterStore.referenceStore[\"individuals\"][1].interGraphLinks)"
   ]
  },
  {
   "cell_type": "code",
   "execution_count": null,
   "metadata": {
    "collapsed": true
   },
   "outputs": [],
   "source": []
  }
 ],
 "metadata": {
  "kernelspec": {
   "display_name": "Python 3",
   "language": "python",
   "name": "python3"
  },
  "language_info": {
   "codemirror_mode": {
    "name": "ipython",
    "version": 3
   },
   "file_extension": ".py",
   "mimetype": "text/x-python",
   "name": "python",
   "nbconvert_exporter": "python",
   "pygments_lexer": "ipython3",
   "version": "3.6.2"
  }
 },
 "nbformat": 4,
 "nbformat_minor": 0
}
