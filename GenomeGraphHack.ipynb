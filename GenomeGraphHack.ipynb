{
 "cells": [
  {
   "cell_type": "code",
   "execution_count": 2,
   "metadata": {
    "collapsed": false
   },
   "outputs": [
    {
     "name": "stdout",
     "output_type": "stream",
     "text": [
      "Waiting for redis server at 127.0.0.1:46570 to respond...\n",
      "Waiting for redis server at 127.0.0.1:50739 to respond...\n",
      "Starting local scheduler with 8 CPUs, 0 GPUs\n",
      "\n",
      "======================================================================\n",
      "View the web UI at http://localhost:8889/notebooks/ray_ui50195.ipynb?token=7fbb5e50badab085d5c68dce0f8eabeb9abb60da66c93edd\n",
      "======================================================================\n",
      "\n"
     ]
    },
    {
     "data": {
      "text/plain": [
       "{'local_scheduler_socket_names': ['/tmp/scheduler66230263'],\n",
       " 'node_ip_address': '127.0.0.1',\n",
       " 'object_store_addresses': [ObjectStoreAddress(name='/tmp/plasma_store74728710', manager_name='/tmp/plasma_manager1746102', manager_port=20763)],\n",
       " 'redis_address': '127.0.0.1:46570',\n",
       " 'webui_url': 'http://localhost:8889/notebooks/ray_ui50195.ipynb?token=7fbb5e50badab085d5c68dce0f8eabeb9abb60da66c93edd'}"
      ]
     },
     "execution_count": 2,
     "metadata": {},
     "output_type": "execute_result"
    }
   ],
   "source": [
    "import ray\n",
    "\n",
    "ray.init()"
   ]
  },
  {
   "cell_type": "code",
   "execution_count": 15,
   "metadata": {
    "collapsed": false
   },
   "outputs": [],
   "source": [
    "# store access to nodes by their global coordinate\n",
    "class MasterStore:\n",
    "    referenceStore = {\"dna\":{}, \"rna\":{}, \"individuals\":{}}\n",
    "    \n",
    "    def addGraph(self, datatype):\n",
    "        referenceStore[datatype] = {}\n",
    "    \n",
    "    def updateRef(self, datatype, key, value):\n",
    "        self.referenceStore[datatype][key] = value\n",
    "        \n",
    "    def getRef(self, datatype, key):\n",
    "        return self.referenceStore[datatype][key]\n",
    "    \n",
    "    def refExists(self, datatype, key):\n",
    "        return datatype in self.referenceStore and key in self.referenceStore[datatype]\n",
    "            \n",
    "# all communication to adjacent nodes goes through the master store\n",
    "masterStore = MasterStore()\n",
    "\n",
    "# a generic node.\n",
    "class Node:\n",
    "    def __init__(self, data, datatype, neighbors = set(), interGraphLinks = {}):\n",
    "        self.data = data\n",
    "        self.datatype = datatype\n",
    "        self.neighbors = neighbors\n",
    "        self.interGraphLinks = {}\n",
    "        \n",
    "    def addNeighbor(self, newNeighbor):\n",
    "        self.neighbors.add(newNeighbor)\n",
    "        \n",
    "    def dropNeighbor(self, oldNeighbor):\n",
    "        self.neighbors.remove(oldNeighbor)\n",
    "\n",
    "    def addInterGraphLink(self, datatype, key):\n",
    "        if datatype in self.interGraphLinks:\n",
    "            if key not in self.interGraphLinks[datatype]:\n",
    "                self.interGraphLinks[datatype].append(key)\n",
    "        else:\n",
    "            self.interGraphLinks[datatype] = [key]\n",
    "    \n",
    "    def merge(self, otherNode):\n",
    "        for i in otherNode.neighbors:\n",
    "            self.addNeighbor(i)\n",
    "        \n",
    "        for key, value in otherNode.interGraphLinks.items():\n",
    "            for link in value:\n",
    "                self.addInterGraphLink(key, link)\n"
   ]
  },
  {
   "cell_type": "code",
   "execution_count": 16,
   "metadata": {
    "collapsed": false
   },
   "outputs": [],
   "source": [
    "# sample reference genome\n",
    "referenceGenome = \"CAGTCCTAGCTACGCTCTATCCTCTCAGAGGACCGATCGATATACGCGTGAAACTAGTGCACTAGACTCGAACTGA\"\n",
    "\n",
    "# sample test data for DNA operations\n",
    "dnaTestData = [{\"individualID\":0, \"dnaData\":\n",
    "                [{\"coordinateStart\":7.1, \"coordinateStop\":8.0, \"variantAllele\": \"C\"},\n",
    "                 {\"coordinateStart\":12.2, \"coordinateStop\":13.0, \"variantAllele\": \"T\"},\n",
    "                 {\"coordinateStart\":26.2222, \"coordinateStop\":27.0, \"variantAllele\": \"TTTT\"}]},\n",
    "               {\"individualID\":1, \"dnaData\":\n",
    "                [{\"coordinateStart\":7.2, \"coordinateStop\":8.0, \"variantAllele\": \"G\"},\n",
    "                 {\"coordinateStart\":12.2, \"coordinateStop\":13.0, \"variantAllele\": \"T\"}]}]\n",
    "\n",
    "# individual IDs\n",
    "individuals = {0: {\"Name\":\"John Doe\", \"Gender\":\"M\"}, 1:{\"Name\":\"Jane Doe\", \"Gender\":\"M\"}}\n",
    "\n",
    "def buildIndividualsGraph(individuals, masterStore):\n",
    "    for indivID, data in individuals.items():\n",
    "        node = Node(data, \"individuals\")\n",
    "        masterStore.updateRef(\"individuals\", indivID, node)\n",
    "\n",
    "buildIndividualsGraph(individuals, masterStore)"
   ]
  },
  {
   "cell_type": "code",
   "execution_count": 17,
   "metadata": {
    "collapsed": false
   },
   "outputs": [],
   "source": [
    "def buildDnaGraph(referenceGenome, dnaTestData, masterStore):\n",
    "    # start building the graph\n",
    "    for i in range(len(referenceGenome)):\n",
    "        # store the coordinates of neighboring nodes\n",
    "        neighbors = set(filter(lambda x: x >= 0.0, \n",
    "                               [float(i-1), float(i+1)]))\n",
    "        # create a new node\n",
    "        node = Node(referenceGenome[i], \"dna\", neighbors)\n",
    "\n",
    "        # store a link to the object in the masterStore\n",
    "        masterStore.updateRef(\"dna\", float(i), node)\n",
    "\n",
    "    for indiv in dnaTestData:\n",
    "        for variant in indiv[\"dnaData\"]:\n",
    "            # store the coordinates of neighboring nodes\n",
    "            neighbors = set(filter(lambda x: x >= 0.0, \n",
    "                                   [float(int(variant[\"coordinateStart\"] - 1)), \n",
    "                                    variant[\"coordinateStop\"]]))\n",
    "\n",
    "            # create a new node for the individual data\n",
    "            node = Node(variant[\"variantAllele\"], \n",
    "                        \"dna\",\n",
    "                        neighbors)\n",
    "\n",
    "            node.addInterGraphLink(\"individuals\", indiv[\"individualID\"])\n",
    "            \n",
    "            if(masterStore.refExists(\"dna\", variant[\"coordinateStart\"])):\n",
    "                node.merge(masterStore.getRef(\"dna\", variant[\"coordinateStart\"]))\n",
    "\n",
    "            for neighbor in neighbors:\n",
    "                if(masterStore.refExists(\"dna\", neighbor)):\n",
    "                    tempNode = masterStore.getRef(\"dna\", neighbor)\n",
    "                    tempNode.addNeighbor(variant[\"coordinateStart\"])\n",
    "                    \n",
    "            indivNode = masterStore.getRef(\"individuals\", indiv[\"individualID\"])\n",
    "            indivNode.addInterGraphLink(\"dna\", variant[\"coordinateStart\"])\n",
    "            \n",
    "            masterStore.updateRef(\"dna\", variant[\"coordinateStart\"], node)\n",
    "\n",
    "# build the graph\n",
    "buildDnaGraph(referenceGenome, dnaTestData, masterStore)"
   ]
  },
  {
   "cell_type": "code",
   "execution_count": 18,
   "metadata": {
    "collapsed": false
   },
   "outputs": [
    {
     "name": "stdout",
     "output_type": "stream",
     "text": [
      "{'dna': {0.0: <__main__.Node object at 0x10844cb38>, 1.0: <__main__.Node object at 0x10844cb70>, 2.0: <__main__.Node object at 0x10844cba8>, 3.0: <__main__.Node object at 0x10844cbe0>, 4.0: <__main__.Node object at 0x10844cc18>, 5.0: <__main__.Node object at 0x10844cc50>, 6.0: <__main__.Node object at 0x10844cc88>, 7.0: <__main__.Node object at 0x10844ccc0>, 8.0: <__main__.Node object at 0x10844ccf8>, 9.0: <__main__.Node object at 0x10844cd30>, 10.0: <__main__.Node object at 0x10844cd68>, 11.0: <__main__.Node object at 0x10844cda0>, 12.0: <__main__.Node object at 0x10844cdd8>, 13.0: <__main__.Node object at 0x10844ce10>, 14.0: <__main__.Node object at 0x10844ce48>, 15.0: <__main__.Node object at 0x10844ce80>, 16.0: <__main__.Node object at 0x10844ceb8>, 17.0: <__main__.Node object at 0x10844cef0>, 18.0: <__main__.Node object at 0x10844cf28>, 19.0: <__main__.Node object at 0x10844cf60>, 20.0: <__main__.Node object at 0x10844cf98>, 21.0: <__main__.Node object at 0x10844cfd0>, 22.0: <__main__.Node object at 0x10844ca90>, 23.0: <__main__.Node object at 0x10843f080>, 24.0: <__main__.Node object at 0x10843f0b8>, 25.0: <__main__.Node object at 0x10843f0f0>, 26.0: <__main__.Node object at 0x10843f128>, 27.0: <__main__.Node object at 0x10843f160>, 28.0: <__main__.Node object at 0x10843f198>, 29.0: <__main__.Node object at 0x10843f1d0>, 30.0: <__main__.Node object at 0x10843f208>, 31.0: <__main__.Node object at 0x10843f240>, 32.0: <__main__.Node object at 0x10843f278>, 33.0: <__main__.Node object at 0x10843f2b0>, 34.0: <__main__.Node object at 0x10843f2e8>, 35.0: <__main__.Node object at 0x10843f320>, 36.0: <__main__.Node object at 0x10843f358>, 37.0: <__main__.Node object at 0x10843f390>, 38.0: <__main__.Node object at 0x10843f3c8>, 39.0: <__main__.Node object at 0x10843f400>, 40.0: <__main__.Node object at 0x10843f438>, 41.0: <__main__.Node object at 0x10843f470>, 42.0: <__main__.Node object at 0x10843f4a8>, 43.0: <__main__.Node object at 0x10843f4e0>, 44.0: <__main__.Node object at 0x10843f518>, 45.0: <__main__.Node object at 0x10843f550>, 46.0: <__main__.Node object at 0x10843f588>, 47.0: <__main__.Node object at 0x10843f5c0>, 48.0: <__main__.Node object at 0x10843f5f8>, 49.0: <__main__.Node object at 0x10843f630>, 50.0: <__main__.Node object at 0x10843f668>, 51.0: <__main__.Node object at 0x10843f6a0>, 52.0: <__main__.Node object at 0x10843f6d8>, 53.0: <__main__.Node object at 0x10843f710>, 54.0: <__main__.Node object at 0x10843f748>, 55.0: <__main__.Node object at 0x10843f780>, 56.0: <__main__.Node object at 0x10843f7b8>, 57.0: <__main__.Node object at 0x10843f7f0>, 58.0: <__main__.Node object at 0x10843f828>, 59.0: <__main__.Node object at 0x10843f860>, 60.0: <__main__.Node object at 0x10843f898>, 61.0: <__main__.Node object at 0x10843f8d0>, 62.0: <__main__.Node object at 0x10843f908>, 63.0: <__main__.Node object at 0x10843f940>, 64.0: <__main__.Node object at 0x10843f978>, 65.0: <__main__.Node object at 0x10843f9b0>, 66.0: <__main__.Node object at 0x10843f9e8>, 67.0: <__main__.Node object at 0x10843fa20>, 68.0: <__main__.Node object at 0x10843fa58>, 69.0: <__main__.Node object at 0x10843fa90>, 70.0: <__main__.Node object at 0x10843fac8>, 71.0: <__main__.Node object at 0x10843fb00>, 72.0: <__main__.Node object at 0x10843fb38>, 73.0: <__main__.Node object at 0x10843fb70>, 74.0: <__main__.Node object at 0x10843fba8>, 75.0: <__main__.Node object at 0x10843fbe0>, 7.1: <__main__.Node object at 0x10843fc88>, 12.2: <__main__.Node object at 0x10843fd68>, 26.2222: <__main__.Node object at 0x10843fcf8>, 7.2: <__main__.Node object at 0x10843fd30>}, 'rna': {}, 'individuals': {0: <__main__.Node object at 0x1084109b0>, 1: <__main__.Node object at 0x108410a20>}}\n"
     ]
    }
   ],
   "source": [
    "print(masterStore.referenceStore)"
   ]
  },
  {
   "cell_type": "code",
   "execution_count": 19,
   "metadata": {
    "collapsed": false
   },
   "outputs": [
    {
     "name": "stdout",
     "output_type": "stream",
     "text": [
      "0.0\tC\t{}\n",
      "1.0\tA\t{}\n",
      "2.0\tG\t{}\n",
      "3.0\tT\t{}\n",
      "4.0\tC\t{}\n",
      "5.0\tC\t{}\n",
      "6.0\tT\t{}\n",
      "7.2\tG\t{'individuals': [1]}\n",
      "7.1\tC\t{'individuals': [0]}\n",
      "7.0\tA\t{}\n",
      "8.0\tG\t{}\n",
      "9.0\tC\t{}\n",
      "10.0\tT\t{}\n",
      "11.0\tA\t{}\n",
      "12.0\tC\t{}\n",
      "12.2\tT\t{'individuals': [1, 0]}\n",
      "13.0\tG\t{}\n",
      "14.0\tC\t{}\n",
      "15.0\tT\t{}\n",
      "16.0\tC\t{}\n",
      "17.0\tT\t{}\n",
      "18.0\tA\t{}\n",
      "19.0\tT\t{}\n",
      "20.0\tC\t{}\n",
      "21.0\tC\t{}\n",
      "22.0\tT\t{}\n",
      "23.0\tC\t{}\n",
      "24.0\tT\t{}\n",
      "25.0\tC\t{}\n",
      "26.0\tA\t{}\n",
      "26.2222\tTTTT\t{'individuals': [0]}\n",
      "27.0\tG\t{}\n",
      "28.0\tA\t{}\n",
      "29.0\tG\t{}\n",
      "30.0\tG\t{}\n",
      "31.0\tA\t{}\n",
      "32.0\tC\t{}\n",
      "33.0\tC\t{}\n",
      "34.0\tG\t{}\n",
      "35.0\tA\t{}\n",
      "36.0\tT\t{}\n",
      "37.0\tC\t{}\n",
      "38.0\tG\t{}\n",
      "39.0\tA\t{}\n",
      "40.0\tT\t{}\n",
      "41.0\tA\t{}\n",
      "42.0\tT\t{}\n",
      "43.0\tA\t{}\n",
      "44.0\tC\t{}\n",
      "45.0\tG\t{}\n",
      "46.0\tC\t{}\n",
      "47.0\tG\t{}\n",
      "48.0\tT\t{}\n",
      "49.0\tG\t{}\n",
      "50.0\tA\t{}\n",
      "51.0\tA\t{}\n",
      "52.0\tA\t{}\n",
      "53.0\tC\t{}\n",
      "54.0\tT\t{}\n",
      "55.0\tA\t{}\n",
      "56.0\tG\t{}\n",
      "57.0\tT\t{}\n",
      "58.0\tG\t{}\n",
      "59.0\tC\t{}\n",
      "60.0\tA\t{}\n",
      "61.0\tC\t{}\n",
      "62.0\tT\t{}\n",
      "63.0\tA\t{}\n",
      "64.0\tG\t{}\n",
      "65.0\tA\t{}\n",
      "66.0\tC\t{}\n",
      "67.0\tT\t{}\n",
      "68.0\tC\t{}\n",
      "69.0\tG\t{}\n",
      "70.0\tA\t{}\n",
      "71.0\tA\t{}\n",
      "72.0\tC\t{}\n",
      "73.0\tT\t{}\n",
      "74.0\tG\t{}\n",
      "75.0\tA\t{}\n"
     ]
    }
   ],
   "source": [
    "def bfs(graphName, startNodeID):\n",
    "    q = [startNodeID]\n",
    "    visited = []\n",
    "\n",
    "    while(q and masterStore.refExists(graphName, q[0])):\n",
    "        currentKey = q[0]\n",
    "        q.remove(currentKey)\n",
    "        visited.append(currentKey)\n",
    "        \n",
    "        node = masterStore.getRef(graphName, currentKey)\n",
    "        print(str(currentKey) + \"\\t\" + str(node.data) + \"\\t\" + str(node.interGraphLinks))\n",
    "        \n",
    "        for i in node.neighbors:\n",
    "            if i not in visited and i not in q:\n",
    "                q.append(i)\n",
    "\n",
    "# traverse our new graph to look at\n",
    "bfs(\"dna\", 0.0)"
   ]
  },
  {
   "cell_type": "code",
   "execution_count": 20,
   "metadata": {
    "collapsed": false
   },
   "outputs": [
    {
     "name": "stdout",
     "output_type": "stream",
     "text": [
      "{'dna': [7.1, 12.2, 26.2222]}\n",
      "{'dna': [7.2, 12.2]}\n"
     ]
    }
   ],
   "source": [
    "print(masterStore.referenceStore[\"individuals\"][0].interGraphLinks)\n",
    "print(masterStore.referenceStore[\"individuals\"][1].interGraphLinks)"
   ]
  },
  {
   "cell_type": "code",
   "execution_count": 25,
   "metadata": {
    "collapsed": false
   },
   "outputs": [],
   "source": [
    "def moveToRay(masterStore):\n",
    "    for graph in masterStore.referenceStore:\n",
    "        for node in masterStore.referenceStore[graph]:\n",
    "            oid = ray.put(masterStore.referenceStore[graph][node])\n",
    "            masterStore.referenceStore[graph][node] = oid"
   ]
  },
  {
   "cell_type": "code",
   "execution_count": 28,
   "metadata": {
    "collapsed": false
   },
   "outputs": [
    {
     "name": "stdout",
     "output_type": "stream",
     "text": [
      "ObjectID(4254d5e10f039845443885e373c685991375533f)\n",
      "ObjectID(4354d5e10f039845443885e373c685991375533f)\n",
      "{'dna': [7.1, 12.2, 26.2222]}\n",
      "{'dna': [7.2, 12.2]}\n"
     ]
    }
   ],
   "source": [
    "print(masterStore.referenceStore[\"individuals\"][0])\n",
    "print(masterStore.referenceStore[\"individuals\"][1])\n",
    "\n",
    "print(ray.get(masterStore.referenceStore[\"individuals\"][0]).interGraphLinks)\n",
    "print(ray.get(masterStore.referenceStore[\"individuals\"][1]).interGraphLinks)"
   ]
  },
  {
   "cell_type": "code",
   "execution_count": 38,
   "metadata": {
    "collapsed": false
   },
   "outputs": [
    {
     "name": "stdout",
     "output_type": "stream",
     "text": [
      "True\n"
     ]
    }
   ],
   "source": [
    "import ray.local_scheduler as local_scheduler\n",
    "\n",
    "print(isinstance(oid, local_scheduler.ObjectID))"
   ]
  },
  {
   "cell_type": "code",
   "execution_count": null,
   "metadata": {
    "collapsed": true
   },
   "outputs": [],
   "source": []
  }
 ],
 "metadata": {
  "kernelspec": {
   "display_name": "Python 3",
   "language": "python",
   "name": "python3"
  },
  "language_info": {
   "codemirror_mode": {
    "name": "ipython",
    "version": 3
   },
   "file_extension": ".py",
   "mimetype": "text/x-python",
   "name": "python",
   "nbconvert_exporter": "python",
   "pygments_lexer": "ipython3",
   "version": "3.6.2"
  }
 },
 "nbformat": 4,
 "nbformat_minor": 0
}
