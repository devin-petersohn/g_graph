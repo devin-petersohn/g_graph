{
 "cells": [
  {
   "cell_type": "markdown",
   "metadata": {
    "slideshow": {
     "slide_type": "slide"
    }
   },
   "source": [
    "# goo.gl/yFU5aA"
   ]
  },
  {
   "cell_type": "markdown",
   "metadata": {
    "slideshow": {
     "slide_type": "slide"
    }
   },
   "source": [
    "# A graph processing engine for Genomics on Ray\n",
    "\n",
    "\n",
    "###### Devin Petersohn"
   ]
  },
  {
   "cell_type": "markdown",
   "metadata": {
    "slideshow": {
     "slide_type": "slide"
    }
   },
   "source": [
    "## Problem Statement\n",
    "\n",
    "\n",
    "##### System Problems\n",
    "* Integrating datasets -- hard!\n",
    "    * Datasets are massive\n",
    "    * Variety can be a challenge to manage\n",
    "    * Structure -- variable! (schemas)\n",
    "* New datasets frequently available\n",
    "* Variety of different relationships -- hard to model in current architectures\n",
    "    * e.g. locality in DNA: 3D vs linear\n",
    "* Compact representation (only have to represent variation)\n",
    "* Machine Learning is challenging across datasets\n",
    "\n",
    "##### User Problems\n",
    "* Adoption\n",
    "    * Faster is not enough\n",
    "    * Users want new capabilities\n",
    "* API/Architecture\n",
    "    * Complicated architectures die (with caveats)\n",
    "    * Must be as simple as possible\n",
    "    "
   ]
  },
  {
   "cell_type": "markdown",
   "metadata": {
    "slideshow": {
     "slide_type": "slide"
    }
   },
   "source": [
    "# Architecture"
   ]
  },
  {
   "cell_type": "markdown",
   "metadata": {
    "slideshow": {
     "slide_type": "subslide"
    }
   },
   "source": [
    "## Architecture\n",
    "\n",
    "##### Genome graph architecture/motivation\n",
    "\n",
    "![](GenomeGraph.png)"
   ]
  },
  {
   "cell_type": "markdown",
   "metadata": {
    "slideshow": {
     "slide_type": "subslide"
    }
   },
   "source": [
    "## Architecture\n",
    "\n",
    "##### Layered graph architecture/motivation\n",
    "\n",
    "![](Layers.png)"
   ]
  },
  {
   "cell_type": "markdown",
   "metadata": {
    "slideshow": {
     "slide_type": "subslide"
    }
   },
   "source": [
    "## Architecture\n",
    "\n",
    "###### Layered graph architecture representation\n",
    "\n",
    "![](Graph_hierarchy.png)"
   ]
  },
  {
   "cell_type": "markdown",
   "metadata": {
    "slideshow": {
     "slide_type": "subslide"
    }
   },
   "source": [
    "## API Goal: Simplicity\n",
    "\n",
    "#### Load, Parse, Label neighbors, and add to graph"
   ]
  },
  {
   "cell_type": "markdown",
   "metadata": {
    "slideshow": {
     "slide_type": "slide"
    }
   },
   "source": [
    "## Why Ray?\n",
    "\n",
    "* Asynchronous model is attractive for graphs\n",
    "* Python is a plus -- genomics\n",
    "* Simple API and design philosophy\n",
    "* Relatively low overhead\n",
    "* RISELab project"
   ]
  },
  {
   "cell_type": "markdown",
   "metadata": {
    "slideshow": {
     "slide_type": "slide"
    }
   },
   "source": [
    "# Demo"
   ]
  },
  {
   "cell_type": "code",
   "execution_count": 1,
   "metadata": {
    "collapsed": false,
    "slideshow": {
     "slide_type": "subslide"
    }
   },
   "outputs": [
    {
     "name": "stdout",
     "output_type": "stream",
     "text": [
      "Waiting for redis server at 127.0.0.1:19174 to respond...\n",
      "Waiting for redis server at 127.0.0.1:34174 to respond...\n",
      "Starting local scheduler with 8 CPUs, 0 GPUs\n",
      "\n",
      "======================================================================\n",
      "View the web UI at http://localhost:8911/notebooks/ray_ui62910.ipynb?token=ebff4df804f48920d03ea4b247dbfa97fd7288c9693a7810\n",
      "======================================================================\n",
      "\n"
     ]
    },
    {
     "data": {
      "text/plain": [
       "{'local_scheduler_socket_names': ['/tmp/scheduler30709081'],\n",
       " 'node_ip_address': '127.0.0.1',\n",
       " 'object_store_addresses': [ObjectStoreAddress(name='/tmp/plasma_store55243114', manager_name='/tmp/plasma_manager24476538', manager_port=56323)],\n",
       " 'redis_address': '127.0.0.1:19174',\n",
       " 'webui_url': 'http://localhost:8911/notebooks/ray_ui62910.ipynb?token=ebff4df804f48920d03ea4b247dbfa97fd7288c9693a7810'}"
      ]
     },
     "execution_count": 1,
     "metadata": {},
     "output_type": "execute_result"
    }
   ],
   "source": [
    "from graphlib import *\n",
    "import ray\n",
    "\n",
    "# Start Ray\n",
    "ray.init()"
   ]
  },
  {
   "cell_type": "markdown",
   "metadata": {
    "slideshow": {
     "slide_type": "subslide"
    }
   },
   "source": [
    "## Starting the system: building a genome graph"
   ]
  },
  {
   "cell_type": "code",
   "execution_count": 2,
   "metadata": {
    "collapsed": false,
    "slideshow": {
     "slide_type": "subslide"
    }
   },
   "outputs": [],
   "source": [
    "# Create a graph collection\n",
    "graph_collection = Graph_collection()\n",
    "\n",
    "# Create a new graph called \"genome_graph\"\n",
    "graph_collection.add_graph(\"genome_graph\")"
   ]
  },
  {
   "cell_type": "markdown",
   "metadata": {
    "slideshow": {
     "slide_type": "subslide"
    }
   },
   "source": [
    "## Popluating the genome graph\n",
    "\n",
    "#### Step 1: Start with a reference genome"
   ]
  },
  {
   "cell_type": "code",
   "execution_count": 3,
   "metadata": {
    "collapsed": false,
    "slideshow": {
     "slide_type": "subslide"
    }
   },
   "outputs": [
    {
     "name": "stdout",
     "output_type": "stream",
     "text": [
      "WARNING: Serializing objects of type <class 'ray.signature.FunctionSignature'> by expanding them as dictionaries of their fields. This behavior may be incorrect in some cases.\n",
      "WARNING: Serializing objects of type <class 'graphlib.Node'> by expanding them as dictionaries of their fields. This behavior may be incorrect in some cases.\n",
      "WARNING: Serializing objects of type <class 'graphlib.Edge'> by expanding them as dictionaries of their fields. This behavior may be incorrect in some cases.\n"
     ]
    }
   ],
   "source": [
    "# Load\n",
    "reference_genome = \"CAGTCCTAGCTACGCTCTATCCTCTCAGAGGACCGATCGATATACGCGTGAAACTAGTGCACTAGACTCGAACTGA\"\n",
    "\n",
    "for i in range(len(reference_genome)):\n",
    "    # Parse\n",
    "    coordinate = float(i)\n",
    "    \n",
    "    # Label neighbors\n",
    "    neighbors = []\n",
    "    \n",
    "    if i != 0:\n",
    "        neighbors.append(Edge(float(i - 1), 0, \"left\"))\n",
    "    if i != len(reference_genome) - 1:\n",
    "        neighbors.append(Edge(float(i + 1), 0, \"right\"))\n",
    "\n",
    "    # create a new node\n",
    "    node = Node(reference_genome[i])\n",
    "\n",
    "    # store a link to the object in the masterStore\n",
    "    graph_collection.add_node_to_graph(\"genome_graph\", \n",
    "                                       coordinate, \n",
    "                                       node, \n",
    "                                       neighbors)"
   ]
  },
  {
   "cell_type": "markdown",
   "metadata": {
    "collapsed": false,
    "slideshow": {
     "slide_type": "subslide"
    }
   },
   "source": [
    "## Populating the genome graph\n",
    "\n",
    "#### Step 2: Add the variation data"
   ]
  },
  {
   "cell_type": "code",
   "execution_count": 4,
   "metadata": {
    "collapsed": false,
    "slideshow": {
     "slide_type": "subslide"
    }
   },
   "outputs": [
    {
     "name": "stderr",
     "output_type": "stream",
     "text": [
      "/Users/DevinPetersohn/software_builds/g_graph/graphlib.py:56: Warning: individuals is not yet in this Graph Collection. Creating...\n",
      "  warnings.warn(str(new_conn) + \" is not yet in this Graph Collection. Creating...\", Warning)\n"
     ]
    }
   ],
   "source": [
    "# Load\n",
    "dna_test_data = [{\"individualID\":0, \"dnaData\":\n",
    "                    [{\"coordinateStart\":7.1, \n",
    "                          \"coordinateStop\":8.0, \n",
    "                          \"variantAllele\": \"C\"},\n",
    "                     {\"coordinateStart\":12.2, \n",
    "                          \"coordinateStop\":13.0, \n",
    "                          \"variantAllele\": \"T\"},\n",
    "                     {\"coordinateStart\":26.2222, \n",
    "                          \"coordinateStop\":27.0, \n",
    "                          \"variantAllele\": \"TTTT\"}]},\n",
    "                 {\"individualID\":1, \"dnaData\":\n",
    "                    [{\"coordinateStart\":7.2, \n",
    "                          \"coordinateStop\":8.0, \n",
    "                          \"variantAllele\": \"G\"},\n",
    "                     {\"coordinateStart\":12.2, \n",
    "                          \"coordinateStop\":13.0, \n",
    "                          \"variantAllele\": \"T\"}]}]\n",
    "\n",
    "for indiv in dna_test_data:\n",
    "        for variant in indiv[\"dnaData\"]:\n",
    "            \n",
    "            #Parse\n",
    "            coordinate = variant[\"coordinateStart\"]\n",
    "            node = Node(variant[\"variantAllele\"])\n",
    "            \n",
    "            # Label neighbors\n",
    "            left_conn = Edge(float(int(coordinate) - 1), 0, \"left\")\n",
    "            right_conn = Edge(float(int(variant[\"coordinateStop\"])), 0, \"right\")\n",
    "            neighbors = [left_conn, right_conn]    \n",
    "            \n",
    "            connections_to_other_graphs = {}\n",
    "            connections_to_other_graphs[\"individuals\"] = indiv[\"individualID\"]\n",
    "            \n",
    "            # Add to graph\n",
    "            graph_collection.add_node_to_graph(\"genome_graph\",\n",
    "                                               coordinate, \n",
    "                                               node, \n",
    "                                               neighbors, \n",
    "                                               connections_to_other_graphs)"
   ]
  },
  {
   "cell_type": "markdown",
   "metadata": {
    "slideshow": {
     "slide_type": "subslide"
    }
   },
   "source": [
    "## Simple query of the data\n",
    "\n",
    "#### Let's see what the graph has for each individual"
   ]
  },
  {
   "cell_type": "code",
   "execution_count": 5,
   "metadata": {
    "collapsed": false,
    "slideshow": {
     "slide_type": "subslide"
    }
   },
   "outputs": [
    {
     "name": "stdout",
     "output_type": "stream",
     "text": [
      "Individual 0\n",
      "7.1 \t C\n",
      "12.2 \t T\n",
      "26.2222 \t TTTT\n",
      "\n",
      "Individual 1\n",
      "12.2 \t T\n",
      "7.2 \t G\n",
      "\n",
      "Individuals graph (for bi-directionality):\n",
      "{'genome_graph': ObjectID(16e9f8d75af74c6e8c1c9a102875927eed8d5352)}\n",
      "{'genome_graph': ObjectID(9583c2033d4e964c09966ed8b0ef8ea16687c5b2)}\n"
     ]
    }
   ],
   "source": [
    "def query_for_individuals(individual_id):\n",
    "    genome_graph = graph_collection.get_graph(\"genome_graph\")\n",
    "    connections = ray.get(genome_graph\n",
    "                          .get_inter_graph_connections\n",
    "                          .remote())\n",
    "\n",
    "    for coordinate in connections:\n",
    "        if \"individuals\" not in connections[coordinate]:\n",
    "            continue\n",
    "            \n",
    "        if individual_id in ray.get(connections[coordinate][\"individuals\"]):\n",
    "            # print the coordinate and the data in the node\n",
    "            print(str(coordinate), \"\\t\",\n",
    "                str(ray.get(ray.get(genome_graph\n",
    "                                    .get_oid_dictionary\n",
    "                                    .remote())[coordinate]).data))\n",
    "\n",
    "print(\"Individual 0\")\n",
    "query_for_individuals(0)\n",
    "\n",
    "print(\"\\nIndividual 1\")\n",
    "query_for_individuals(1)\n",
    "\n",
    "individuals_graph_conns = ray.get(graph_collection.get_graph(\"individuals\")\n",
    "                             .get_inter_graph_connections.remote())\n",
    "\n",
    "print(\"\\nIndividuals graph (for bi-directionality):\")\n",
    "for indiv in individuals_graph_conns:\n",
    "    print(str(individuals_graph_conns[indiv]))\n"
   ]
  },
  {
   "cell_type": "markdown",
   "metadata": {
    "collapsed": true,
    "slideshow": {
     "slide_type": "subslide"
    }
   },
   "source": [
    "## Populating the individuals graph"
   ]
  },
  {
   "cell_type": "code",
   "execution_count": 6,
   "metadata": {
    "collapsed": false,
    "slideshow": {
     "slide_type": "subslide"
    }
   },
   "outputs": [
    {
     "name": "stdout",
     "output_type": "stream",
     "text": [
      "{'Name': 'John Doe', 'Gender': 'M'}\n",
      "{'Name': 'Jane Doe', 'Gender': 'F'}\n"
     ]
    }
   ],
   "source": [
    "individuals = {0: {\"Name\":\"John Doe\", \"Gender\":\"M\"}, \n",
    "               1: {\"Name\":\"Jane Doe\", \"Gender\":\"F\"}}\n",
    "\n",
    "for indiv_id, data in individuals.items():\n",
    "    node = Node(data)\n",
    "    graph_collection.add_node_to_graph(\"individuals\", indiv_id, node)\n",
    "\n",
    "for indiv_id in individuals:\n",
    "    print(ray.get(ray.get(graph_collection.get_graph(\"individuals\")\n",
    "                                          .get_oid_dictionary\n",
    "                                          .remote())[indiv_id]).data)\n"
   ]
  },
  {
   "cell_type": "markdown",
   "metadata": {
    "slideshow": {
     "slide_type": "subslide"
    }
   },
   "source": [
    "## Adding relationships\n",
    "\n",
    "#### Suppose that Jane is John's mother"
   ]
  },
  {
   "cell_type": "code",
   "execution_count": 7,
   "metadata": {
    "collapsed": false,
    "slideshow": {
     "slide_type": "subslide"
    }
   },
   "outputs": [
    {
     "name": "stdout",
     "output_type": "stream",
     "text": [
      "Jane Doe is mother to John Doe\n",
      "John Doe is son to Jane Doe\n"
     ]
    }
   ],
   "source": [
    "john_is_son = Edge(0, 0, \"son\")\n",
    "jane_is_mom = Edge(1, 0, \"mother\")\n",
    "\n",
    "graph_collection.append_to_connections(\"individuals\", 1, john_is_son)\n",
    "graph_collection.append_to_connections(\"individuals\", 0, jane_is_mom)\n",
    "\n",
    "for indiv_id in individuals:\n",
    "    connections = ray.get(ray.get(graph_collection.get_graph(\"individuals\")\n",
    "                                                  .get_adjacency_list\n",
    "                                                  .remote())[indiv_id])\n",
    "    for conn in connections:\n",
    "        print(individuals[conn.destination][\"Name\"], \n",
    "              \"is\",\n",
    "              str(conn.orientation),\n",
    "              \"to\",\n",
    "              str(individuals[indiv_id][\"Name\"]))"
   ]
  },
  {
   "cell_type": "markdown",
   "metadata": {
    "slideshow": {
     "slide_type": "slide"
    }
   },
   "source": [
    "## Leveraging the asynchrony in Ray\n",
    "\n",
    "#### A real example with real data"
   ]
  },
  {
   "cell_type": "code",
   "execution_count": 8,
   "metadata": {
    "collapsed": true,
    "slideshow": {
     "slide_type": "subslide"
    }
   },
   "outputs": [],
   "source": [
    "# this will store all reads in their original form\n",
    "graph_collection.add_graph(\"reads\")\n",
    "# this will store the genome graph for all reads\n",
    "graph_collection.add_graph(\"reads_genome_graph\")\n",
    "\n",
    "#sample reads\n",
    "sample_read_data = [{\"contigName\": \"chr1\", \"start\": 268051, \"end\": 268101, \"mapq\": 0, \"readName\": \"D3NH4HQ1:95:D0MT5ACXX:2:2307:5603:121126\", \"sequence\": \"GGAGTGGGGGCAGCTACGTCCTCTCTTGAGCTACAGCAGATTCACTCNCT\", \"qual\": \"BCCFDDFFHHHHHJJJIJJJJJJIIIJIGJJJJJJJJJIIJJJJIJJ###\", \"cigar\": \"50M\", \"readPaired\": False, \"properPair\": False, \"readMapped\": True, \"mateMapped\": False, \"failedVendorQualityChecks\": False, \"duplicateRead\": False, \"readNegativeStrand\": False, \"mateNegativeStrand\": False, \"primaryAlignment\": True, \"secondaryAlignment\": False, \"supplementaryAlignment\": False, \"mismatchingPositions\": \"47T0G1\", \"origQual\": None, \"attributes\": \"XT:A:R\\tXO:i:0\\tXM:i:2\\tNM:i:2\\tXG:i:0\\tXA:Z:chr16,-90215399,50M,2;chr6,-170736451,50M,2;chr8,+71177,50M,3;chr1,+586206,50M,3;chr1,+357434,50M,3;chr5,-181462910,50M,3;chr17,-83229095,50M,3;\\tX1:i:5\\tX0:i:3\", \"recordGroupName\": None, \"recordGroupSample\": None, \"mateAlignmentStart\": None, \"mateAlignmentEnd\": None, \"mateContigName\": None, \"inferredInsertSize\": None},\n",
    "                    {\"contigName\": \"chr1\", \"start\": 1424219, \"end\": 1424269, \"mapq\": 37, \"readName\": \"D3NH4HQ1:95:D0MT5ACXX:2:2107:15569:102571\", \"sequence\": \"AGCGCTGTAGGGACACTGCAGGGAGGCCTCTGCTGCCCTGCTAGATGTCA\", \"qual\": \"CCCFFFFFHHHHHJJJJJJJJJJIJJJJJJJJJJJJJJJIJJIJHIIGHI\", \"cigar\": \"50M\", \"readPaired\": False, \"properPair\": False, \"readMapped\": True, \"mateMapped\": False, \"failedVendorQualityChecks\": False, \"duplicateRead\": False, \"readNegativeStrand\": False, \"mateNegativeStrand\": False, \"primaryAlignment\": True, \"secondaryAlignment\": False, \"supplementaryAlignment\": False, \"mismatchingPositions\": \"50\", \"origQual\": None, \"attributes\": \"XT:A:U\\tXO:i:0\\tXM:i:0\\tNM:i:0\\tXG:i:0\\tX1:i:0\\tX0:i:1\", \"recordGroupName\": None, \"recordGroupSample\": None, \"mateAlignmentStart\": None, \"mateAlignmentEnd\": None, \"mateContigName\": None, \"inferredInsertSize\": None},\n",
    "                    {\"contigName\": \"chr1\", \"start\": 45520936, \"end\": 45520986, \"mapq\": 0, \"readName\": \"D3NH4HQ1:95:D0MT5ACXX:2:2103:19714:5712\", \"sequence\": \"TTTTTTTTTTTTTTTTTTTTTTTTTTTTTTTTTTTTTTTTTTTTTTTTTT\", \"qual\": \"############################BBBCDEEA<?:FDCADDD?;=+\", \"cigar\": \"50M\", \"readPaired\": False, \"properPair\": False, \"readMapped\": True, \"mateMapped\": False, \"failedVendorQualityChecks\": False, \"duplicateRead\": False, \"readNegativeStrand\": True, \"mateNegativeStrand\": False, \"primaryAlignment\": True, \"secondaryAlignment\": False, \"supplementaryAlignment\": False, \"mismatchingPositions\": \"50\", \"origQual\": None, \"attributes\": \"XT:A:R\\tXO:i:0\\tXM:i:0\\tNM:i:0\\tXG:i:0\\tX0:i:1406\", \"recordGroupName\": None, \"recordGroupSample\": None, \"mateAlignmentStart\": None, \"mateAlignmentEnd\": None, \"mateContigName\": None, \"inferredInsertSize\": None},\n",
    "                    {\"contigName\": \"chr1\", \"start\": 45520938, \"end\": 1443788, \"mapq\": 0, \"readName\": \"D3NH4HQ1:95:D0MT5ACXX:2:2103:21028:126413\", \"sequence\": \"TTTTTTTTTTTTTTTTTTTTTTTTTTTTTTTTTTTTTTTTTTTTTTTTTT\", \"qual\": \"###########################B?;;AFHFIGDDHDDDDDBD@?=\", \"cigar\": \"50M\", \"readPaired\": False, \"properPair\": False, \"readMapped\": True, \"mateMapped\": False, \"failedVendorQualityChecks\": False, \"duplicateRead\": False, \"readNegativeStrand\": True, \"mateNegativeStrand\": False, \"primaryAlignment\": True, \"secondaryAlignment\": False, \"supplementaryAlignment\": False, \"mismatchingPositions\": \"50\", \"origQual\": None, \"attributes\": \"XT:A:R\\tXO:i:0\\tXM:i:0\\tNM:i:0\\tXG:i:0\\tX0:i:1406\", \"recordGroupName\": None, \"recordGroupSample\": None, \"mateAlignmentStart\": None, \"mateAlignmentEnd\": None, \"mateContigName\": None, \"inferredInsertSize\": None},\n",
    "                    {\"contigName\": \"chr1\", \"start\": 2653642, \"end\": 2653692, \"mapq\": 25, \"readName\": \"D3NH4HQ1:95:D0MT5ACXX:2:2306:20003:84408\", \"sequence\": \"ANNACACCCCCAGGCGAGCATCTGACAGCCTGGAACAGCACCCACACCCC\", \"qual\": \"######JJJJJJJIJIJJIHGGGIIJJJJJJJJJJJJHHFHHDDDBFC@@\", \"cigar\": \"50M\", \"readPaired\": False, \"properPair\": False, \"readMapped\": True, \"mateMapped\": False, \"failedVendorQualityChecks\": False, \"duplicateRead\": False, \"readNegativeStrand\": True, \"mateNegativeStrand\": False, \"primaryAlignment\": True, \"secondaryAlignment\": False, \"supplementaryAlignment\": False, \"mismatchingPositions\": \"0T0C0C47\", \"origQual\": None, \"attributes\": \"XT:A:U\\tXO:i:0\\tXM:i:3\\tNM:i:3\\tXG:i:0\\tX1:i:0\\tX0:i:1\", \"recordGroupName\": None, \"recordGroupSample\": None, \"mateAlignmentStart\": None, \"mateAlignmentEnd\": None, \"mateContigName\": None, \"inferredInsertSize\": None},\n",
    "                    {\"contigName\": \"chr1\", \"start\": 2664732, \"end\": 2664782, \"mapq\": 0, \"readName\": \"D3NH4HQ1:95:D0MT5ACXX:2:2106:12935:169714\", \"sequence\": \"GAGCATGTGACAGCCTAGGTCGGCACCCACACCCCCAGGTGAGCATCTGA\", \"qual\": \"FDBDCHFFEHDCCAFHIHA6EGB?8GGFF?8IEHEB@FHDHGEDDBD@@@\", \"cigar\": \"50M\", \"readPaired\": False, \"properPair\": False, \"readMapped\": True, \"mateMapped\": False, \"failedVendorQualityChecks\": False, \"duplicateRead\": False, \"readNegativeStrand\": True, \"mateNegativeStrand\": False, \"primaryAlignment\": True, \"secondaryAlignment\": False, \"supplementaryAlignment\": False, \"mismatchingPositions\": \"6C9G33\", \"origQual\": None, \"attributes\": \"XT:A:R\\tXO:i:0\\tXM:i:2\\tNM:i:2\\tXG:i:0\\tX1:i:13\\tX0:i:5\", \"recordGroupName\": None, \"recordGroupSample\": None, \"mateAlignmentStart\": None, \"mateAlignmentEnd\": None, \"mateContigName\": None, \"inferredInsertSize\": None},\n",
    "                    {\"contigName\": \"chr1\", \"start\": 2683541, \"end\": 2683591, \"mapq\": 0, \"readName\": \"D3NH4HQ1:95:D0MT5ACXX:2:2107:5053:12847\", \"sequence\": \"AGCACCCACAACCACAGGTGAGCATCCGACAGCCTGGAACAGCACCCACA\", \"qual\": \"CCCFFFFFHGHHHJIJJJHGGIIJJJJJIJGIIJJIJJIJJJJIJIIJJJ\", \"cigar\": \"50M\", \"readPaired\": False, \"properPair\": False, \"readMapped\": True, \"mateMapped\": False, \"failedVendorQualityChecks\": False, \"duplicateRead\": False, \"readNegativeStrand\": False, \"mateNegativeStrand\": False, \"primaryAlignment\": True, \"secondaryAlignment\": False, \"supplementaryAlignment\": False, \"mismatchingPositions\": \"50\", \"origQual\": None, \"attributes\": \"XT:A:R\\tXO:i:0\\tXM:i:0\\tNM:i:0\\tXG:i:0\\tXA:Z:chr1,+2687435,50M,0;chr1,+2694861,50M,0;chr1,+2755813,50M,1;\\tX1:i:1\\tX0:i:3\", \"recordGroupName\": None, \"recordGroupSample\": None, \"mateAlignmentStart\": None, \"mateAlignmentEnd\": None, \"mateContigName\": None, \"inferredInsertSize\": None},\n",
    "                    {\"contigName\": \"chr1\", \"start\": 2689861, \"end\": 2689911, \"mapq\": 0, \"readName\": \"D3NH4HQ1:95:D0MT5ACXX:2:2108:5080:115408\", \"sequence\": \"GGTGAGCATCTGACAGCCCGGAGCAGCACGCAAACCCCCAGGTGAGCATC\", \"qual\": \"@@BFBBDFHHHHGJIJGIIFIEIJJJJIJJJJJJJJJJJJIJGHHICEHH\", \"cigar\": \"50M\", \"readPaired\": False, \"properPair\": False, \"readMapped\": True, \"mateMapped\": False, \"failedVendorQualityChecks\": False, \"duplicateRead\": False, \"readNegativeStrand\": False, \"mateNegativeStrand\": False, \"primaryAlignment\": True, \"secondaryAlignment\": False, \"supplementaryAlignment\": False, \"mismatchingPositions\": \"18T3A27\", \"origQual\": None, \"attributes\": \"XT:A:R\\tXO:i:0\\tXM:i:2\\tNM:i:2\\tXG:i:0\\tX1:i:21\\tX0:i:2\", \"recordGroupName\": None, \"recordGroupSample\": None, \"mateAlignmentStart\": None, \"mateAlignmentEnd\": None, \"mateContigName\": None, \"inferredInsertSize\": None},\n",
    "                    {\"contigName\": \"chr1\", \"start\": 2750194, \"end\": 2750244, \"mapq\": 0, \"readName\": \"D3NH4HQ1:95:D0MT5ACXX:2:1204:10966:151563\", \"sequence\": \"CCCCCNCACCCCCAGGTGAGCATCTGATGGTCTGGAGCAGCACCCACACC\", \"qual\": \"######F;JJJJJJJJJJJJIIIJIJJJJFJJIJJGJHHHHHFFDDD?BB\", \"cigar\": \"50M\", \"readPaired\": False, \"properPair\": False, \"readMapped\": True, \"mateMapped\": False, \"failedVendorQualityChecks\": False, \"duplicateRead\": False, \"readNegativeStrand\": True, \"mateNegativeStrand\": False, \"primaryAlignment\": True, \"secondaryAlignment\": False, \"supplementaryAlignment\": False, \"mismatchingPositions\": \"1A3A12C31\", \"origQual\": None, \"attributes\": \"XT:A:R\\tXO:i:0\\tXM:i:3\\tNM:i:3\\tXG:i:0\\tXA:Z:chr1,-2653118,50M,3;chr1,-2652838,50M,3;chr1,-2653681,50M,3;chr1,-2694823,50M,3;chr1,-2687397,50M,3;chr1,-2755775,50M,3;chr1,-2653921,50M,3;\\tX1:i:0\\tX0:i:8\", \"recordGroupName\": None, \"recordGroupSample\": None, \"mateAlignmentStart\": None, \"mateAlignmentEnd\": None, \"mateContigName\": None, \"inferredInsertSize\": None},\n",
    "                    {\"contigName\": \"chr1\", \"start\": 3052271, \"end\": 3052321, \"mapq\": 25, \"readName\": \"D3NH4HQ1:95:D0MT5ACXX:2:2107:21352:43370\", \"sequence\": \"TCANTCATCTTCCATCCATCCGTCCAACAACCATTTGTTGATCATCTCTC\", \"qual\": \"@@<#4AD?ACDCDHGIDA>C?<A;8CBEEBAG1D?BG?GH?@DEHFG@FH\", \"cigar\": \"50M\", \"readPaired\": False, \"properPair\": False, \"readMapped\": True, \"mateMapped\": False, \"failedVendorQualityChecks\": False, \"duplicateRead\": False, \"readNegativeStrand\": False, \"mateNegativeStrand\": False, \"primaryAlignment\": True, \"secondaryAlignment\": False, \"supplementaryAlignment\": False, \"mismatchingPositions\": \"3C44A0T0\", \"origQual\": None, \"attributes\": \"XT:A:U\\tXO:i:0\\tXM:i:3\\tNM:i:3\\tXG:i:0\\tX1:i:0\\tX0:i:1\", \"recordGroupName\": None, \"recordGroupSample\": None, \"mateAlignmentStart\": None, \"mateAlignmentEnd\": None, \"mateContigName\": None, \"inferredInsertSize\": None}]\n",
    "\n",
    "for read in sample_read_data:\n",
    "    graph_collection.add_node_to_graph(\"reads\", read[\"readName\"], Node(read))\n",
    "    for index in range(len(read[\"sequence\"])):\n",
    "        data = read[\"sequence\"][index]\n",
    "\n",
    "        neighbors = []\n",
    "        if index != 0:\n",
    "            neighbors.append(Edge(read[\"contigName\"] + \n",
    "                                  \"\\t\" + \n",
    "                                  str(read[\"start\"] + index - 1), \n",
    "                              0, \n",
    "                              \"left\"))\n",
    "\n",
    "        if index != len(read[\"sequence\"]) - 1:\n",
    "            neighbors.append(Edge(read[\"contigName\"] + \n",
    "                                  \"\\t\" + \n",
    "                                  str(read[\"start\"] + index + 1), \n",
    "                              0, \n",
    "                              \"right\"))\n",
    "\n",
    "        coordinate = read[\"contigName\"] + \"\\t\" + str(read[\"start\"] + index)\n",
    "        node = Node(data)\n",
    "\n",
    "        graph_collection.add_node_to_graph(\"reads_genome_graph\", coordinate, node, neighbors)\n",
    "        graph_collection.add_inter_graph_connection(\"reads_genome_graph\", \n",
    "                                                    coordinate, \n",
    "                                                    \"reads\", \n",
    "                                                    read[\"readName\"])\n"
   ]
  },
  {
   "cell_type": "code",
   "execution_count": 9,
   "metadata": {
    "collapsed": false,
    "slideshow": {
     "slide_type": "subslide"
    }
   },
   "outputs": [
    {
     "name": "stdout",
     "output_type": "stream",
     "text": [
      "After 0 seconds: 460 completed\n",
      "After 3 seconds: 3361 completed\n",
      "After 6 seconds: 6406 completed\n",
      "After 9 seconds: 9464 completed\n",
      "After 12 seconds: 12466 completed\n",
      "After 15 seconds: 15609 completed\n",
      "After 18 seconds: 18590 completed\n",
      "After 21 seconds: 21664 completed\n",
      "After 24 seconds: 24895 completed\n",
      "After 27 seconds: 27520 completed\n",
      "After 30 seconds: 27520 completed\n"
     ]
    }
   ],
   "source": [
    "# for storing the feature data\n",
    "graph_collection.add_graph(\"features\")\n",
    "\n",
    "sampleFeatures = [{\"featureName\": \"0\", \"contigName\": \"chr1\", \"start\": 45520936, \"end\": 45522463, \"score\": 0.0, \"attributes\": {\"itemRgb\": \"5.0696939910406\", \"blockCount\": \"878\", \"thickStart\": \"482.182760214932\", \"thickEnd\": \"-1\"}},\n",
    "                    {\"featureName\": \"1\", \"contigName\": \"chr1\", \"start\": 88891087, \"end\": 88891875, \"score\": 0.0, \"attributes\": {\"itemRgb\": \"5.0696939910406\", \"blockCount\": \"423\", \"thickStart\": \"446.01797654123\", \"thickEnd\": \"-1\"}},\n",
    "                    {\"featureName\": \"2\", \"contigName\": \"chr1\", \"start\": 181088138, \"end\": 181090451, \"score\": 0.0, \"attributes\": {\"itemRgb\": \"5.0696939910406\", \"blockCount\": \"626\", \"thickStart\": \"444.771802710521\", \"thickEnd\": \"-1\"}},\n",
    "                    {\"featureName\": \"3\", \"contigName\": \"chr1\", \"start\": 179954184, \"end\": 179955452, \"score\": 0.0, \"attributes\": {\"itemRgb\": \"5.0696939910406\", \"blockCount\": \"647\", \"thickStart\": \"440.10466093652\", \"thickEnd\": \"-1\"}},\n",
    "                    {\"featureName\": \"4\", \"contigName\": \"chr1\", \"start\": 246931401, \"end\": 246932507, \"score\": 0.0, \"attributes\": {\"itemRgb\": \"5.0696939910406\", \"blockCount\": \"423\", \"thickStart\": \"436.374938660247\", \"thickEnd\": \"-1\"}},\n",
    "                    {\"featureName\": \"5\", \"contigName\": \"chr1\", \"start\": 28580676, \"end\": 28582443, \"score\": 0.0, \"attributes\": {\"itemRgb\": \"5.0696939910406\", \"blockCount\": \"1106\", \"thickStart\": \"434.111845970505\", \"thickEnd\": \"-1\"}},\n",
    "                    {\"featureName\": \"6\", \"contigName\": \"chr1\", \"start\": 23691459, \"end\": 23692369, \"score\": 0.0, \"attributes\": {\"itemRgb\": \"5.0696939910406\", \"blockCount\": \"421\", \"thickStart\": \"426.055504846001\", \"thickEnd\": \"-1\"}},\n",
    "                    {\"featureName\": \"7\", \"contigName\": \"chr1\", \"start\": 201955033, \"end\": 201956082, \"score\": 0.0, \"attributes\": {\"itemRgb\": \"5.0696939910406\", \"blockCount\": \"522\", \"thickStart\": \"423.882565088207\", \"thickEnd\": \"-1\"}},\n",
    "                    {\"featureName\": \"8\", \"contigName\": \"chr1\", \"start\": 207321011, \"end\": 207323021, \"score\": 0.0, \"attributes\": {\"itemRgb\": \"5.0696939910406\", \"blockCount\": \"741\", \"thickStart\": \"423.625988483304\", \"thickEnd\": \"-1\"}},\n",
    "                    {\"featureName\": \"9\", \"contigName\": \"chr1\", \"start\": 145520936, \"end\": 145522463, \"score\": 0.0, \"attributes\": {\"itemRgb\": \"5.0696939910406\", \"blockCount\": \"878\", \"thickStart\": \"482.182760214932\", \"thickEnd\": \"-1\"}},\n",
    "                    {\"featureName\": \"10\", \"contigName\": \"chr1\", \"start\": 188891087, \"end\": 188891875, \"score\": 0.0, \"attributes\": {\"itemRgb\": \"5.0696939910406\", \"blockCount\": \"423\", \"thickStart\": \"446.01797654123\", \"thickEnd\": \"-1\"}},\n",
    "                    {\"featureName\": \"11\", \"contigName\": \"chr1\", \"start\": 1181088138, \"end\": 1181090451, \"score\": 0.0, \"attributes\": {\"itemRgb\": \"5.0696939910406\", \"blockCount\": \"626\", \"thickStart\": \"444.771802710521\", \"thickEnd\": \"-1\"}},\n",
    "                    {\"featureName\": \"12\", \"contigName\": \"chr1\", \"start\": 1179954184, \"end\": 1179955452, \"score\": 0.0, \"attributes\": {\"itemRgb\": \"5.0696939910406\", \"blockCount\": \"647\", \"thickStart\": \"440.10466093652\", \"thickEnd\": \"-1\"}},\n",
    "                    {\"featureName\": \"13\", \"contigName\": \"chr1\", \"start\": 1246931401, \"end\": 1246932507, \"score\": 0.0, \"attributes\": {\"itemRgb\": \"5.0696939910406\", \"blockCount\": \"423\", \"thickStart\": \"436.374938660247\", \"thickEnd\": \"-1\"}},\n",
    "                    {\"featureName\": \"14\", \"contigName\": \"chr1\", \"start\": 128580676, \"end\": 128582443, \"score\": 0.0, \"attributes\": {\"itemRgb\": \"5.0696939910406\", \"blockCount\": \"1106\", \"thickStart\": \"434.111845970505\", \"thickEnd\": \"-1\"}},\n",
    "                    {\"featureName\": \"15\", \"contigName\": \"chr1\", \"start\": 123691459, \"end\": 123692369, \"score\": 0.0, \"attributes\": {\"itemRgb\": \"5.0696939910406\", \"blockCount\": \"421\", \"thickStart\": \"426.055504846001\", \"thickEnd\": \"-1\"}},\n",
    "                    {\"featureName\": \"16\", \"contigName\": \"chr1\", \"start\": 1201955033, \"end\": 1201956082, \"score\": 0.0, \"attributes\": {\"itemRgb\": \"5.0696939910406\", \"blockCount\": \"522\", \"thickStart\": \"423.882565088207\", \"thickEnd\": \"-1\"}},\n",
    "                    {\"featureName\": \"17\", \"contigName\": \"chr1\", \"start\": 1207321011, \"end\": 1207323021, \"score\": 0.0, \"attributes\": {\"itemRgb\": \"5.0696939910406\", \"blockCount\": \"741\", \"thickStart\": \"423.625988483304\", \"thickEnd\": \"-1\"}},\n",
    "                    {\"featureName\": \"18\", \"contigName\": \"chr1\", \"start\": 1110963118, \"end\": 1110964762, \"score\": 0.0, \"attributes\": {\"itemRgb\": \"5.0696939910406\", \"blockCount\": \"758\", \"thickStart\": \"421.056761458099\", \"thickEnd\": \"-1\"}}]\n",
    "    \n",
    "for feature in sampleFeatures:\n",
    "    node = Node(feature)\n",
    "    graph_collection.add_node_to_graph(\"features\", feature[\"featureName\"], node)\n",
    "    coordinates = []\n",
    "    for index in range(feature[\"end\"] - feature[\"start\"]):\n",
    "        coordinates.append(feature[\"contigName\"] + \n",
    "                           \"\\t\" + \n",
    "                           str(feature[\"start\"] + index))\n",
    "\n",
    "    graph_collection.add_multiple_inter_graph_connections(\"features\", \n",
    "                                                          feature[\"featureName\"], \n",
    "                                                          \"reads_genome_graph\", \n",
    "                                                          coordinates)\n",
    "\n",
    "\n",
    "import time\n",
    "reads_graph = graph_collection.get_graph(\"reads_genome_graph\")\n",
    "for i in range(11):\n",
    "    print(\"After\", i*3, \"seconds:\",\n",
    "          str(len(ray.get(reads_graph.get_inter_graph_connections.remote()))),\n",
    "          \"completed\")\n",
    "    time.sleep(3)"
   ]
  },
  {
   "cell_type": "markdown",
   "metadata": {
    "slideshow": {
     "slide_type": "subslide"
    }
   },
   "source": [
    "## A real query:\n",
    "\n",
    "#### How many reads overlap with a particular feature?"
   ]
  },
  {
   "cell_type": "code",
   "execution_count": 10,
   "metadata": {
    "collapsed": false,
    "slideshow": {
     "slide_type": "subslide"
    }
   },
   "outputs": [
    {
     "name": "stdout",
     "output_type": "stream",
     "text": [
      "Number of reads_with_features:  2\n",
      "Reads:  {'D3NH4HQ1:95:D0MT5ACXX:2:2103:19714:5712', 'D3NH4HQ1:95:D0MT5ACXX:2:2103:21028:126413'}\n"
     ]
    }
   ],
   "source": [
    "features_graph = graph_collection.get_graph(\"features\")\n",
    "\n",
    "query_feature = \"0\"\n",
    "\n",
    "inter_graph_for_query = ray.get(features_graph\n",
    "                            .get_inter_graph_connections\n",
    "                            .remote())[query_feature]\n",
    "\n",
    "reads_inter_graph = ray.get(reads_graph.get_inter_graph_connections\n",
    "                                       .remote())\n",
    "\n",
    "independent_features = set()\n",
    "for key in ray.get(inter_graph_for_query[\"reads_genome_graph\"]):\n",
    "    if \"reads\" in reads_inter_graph[key]:\n",
    "        x = ray.get(reads_inter_graph[key][\"reads\"])\n",
    "        independent_features.update(x)\n",
    "        \n",
    "print(\"Number of reads_with_features: \", len(independent_features))\n",
    "print(\"Reads: \", independent_features)"
   ]
  },
  {
   "cell_type": "markdown",
   "metadata": {
    "slideshow": {
     "slide_type": "slide"
    }
   },
   "source": [
    "## Future Work\n",
    "\n",
    "#### Extending this beyond genomics\n",
    "* Streaming applications\n",
    "* Applications where data is \n",
    "* Complex querying\n",
    "* Querying/ML on streaming data\n",
    "\n",
    "#### Extending to support machine learning\n",
    "* Prediction problem: What is the confidence for a connection between two nodes?\n",
    "* General associations: Deep Learning\n",
    "* Reinforcement Learning?\n",
    "\n",
    "#### Future Systems work\n",
    "* Correct execution of queries on data\n",
    "    * Requires a time library\n",
    "* Support for transactions\n",
    "* More robustness\n",
    "* Testing on a large dataset (on a cluster)"
   ]
  },
  {
   "cell_type": "markdown",
   "metadata": {
    "slideshow": {
     "slide_type": "subslide"
    }
   },
   "source": [
    "## Future Work sample stack diagram\n",
    "\n",
    "![](Stack Diagram.png)"
   ]
  },
  {
   "cell_type": "markdown",
   "metadata": {
    "slideshow": {
     "slide_type": "subslide"
    }
   },
   "source": [
    "# Questions?"
   ]
  }
 ],
 "metadata": {
  "celltoolbar": "Slideshow",
  "kernelspec": {
   "display_name": "Python 3",
   "language": "python",
   "name": "python3"
  },
  "language_info": {
   "codemirror_mode": {
    "name": "ipython",
    "version": 3
   },
   "file_extension": ".py",
   "mimetype": "text/x-python",
   "name": "python",
   "nbconvert_exporter": "python",
   "pygments_lexer": "ipython3",
   "version": "3.6.2"
  }
 },
 "nbformat": 4,
 "nbformat_minor": 0
}
