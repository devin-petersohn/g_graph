{
 "cells": [
  {
   "cell_type": "code",
   "execution_count": 1,
   "metadata": {
    "collapsed": true
   },
   "outputs": [],
   "source": [
    "import graphlib\n",
    "from graphlib import *\n",
    "import ray\n",
    "import urllib.request"
   ]
  },
  {
   "cell_type": "code",
   "execution_count": 2,
   "metadata": {
    "collapsed": false
   },
   "outputs": [
    {
     "name": "stdout",
     "output_type": "stream",
     "text": [
      "Waiting for redis server at 127.0.0.1:16765 to respond...\n",
      "Waiting for redis server at 127.0.0.1:62830 to respond...\n",
      "Starting local scheduler with 8 CPUs, 0 GPUs\n",
      "\n",
      "======================================================================\n",
      "View the web UI at http://localhost:8889/notebooks/ray_ui28490.ipynb?token=6afab869c62d1d8323fae7b123b2d200bbb4b01010fc6f99\n",
      "======================================================================\n",
      "\n"
     ]
    }
   ],
   "source": [
    "ray.init()\n",
    "graph_manager = Graph_collection()\n",
    "\n",
    "graph_manager.add_graph(\"CSA_functional_sites\")\n",
    "graph_manager.add_graph(\"CSA_protein_index\")"
   ]
  },
  {
   "cell_type": "code",
   "execution_count": 3,
   "metadata": {
    "collapsed": false
   },
   "outputs": [
    {
     "name": "stdout",
     "output_type": "stream",
     "text": [
      "WARNING: Serializing objects of type <class 'ray.signature.FunctionSignature'> by expanding them as dictionaries of their fields. This behavior may be incorrect in some cases.\n",
      "WARNING: Serializing objects of type <class 'graphlib.Node'> by expanding them as dictionaries of their fields. This behavior may be incorrect in some cases.\n"
     ]
    }
   ],
   "source": [
    "count = 0\n",
    "proteins_set = set()\n",
    "\n",
    "with open(\"CSA_2_0_121113.txt\", \"r\") as csa_file:\n",
    "    header = csa_file.readline().rstrip(\"\\n\").split(\",\")\n",
    "    for line in csa_file:\n",
    "        raw_data = line.rstrip(\"\\n\").split(\",\")\n",
    "        if raw_data[6] != \"LIT\":\n",
    "            continue\n",
    "\n",
    "        count += 1\n",
    "        proteins_set.add(raw_data[0])\n",
    "        data = {}\n",
    "        for i in range(len(raw_data)):\n",
    "            data[header[i]] = raw_data[i]\n",
    "        node = Node(data)\n",
    "        graph_manager.add_node_to_graph(\"CSA_functional_sites\", data[\"PDB ID\"], node)\n",
    "        \n",
    "with open(\"pdb_to_uniprot_csa.txt\", \"r\") as file:\n",
    "    header = file.readline().rstrip(\"\\n\").split(\"\\t\")\n",
    "    \n",
    "    for line in file:\n",
    "        raw_data = line.rstrip(\"\\n\").split(\"\\t\")\n",
    "        \n",
    "        for i in range(len(raw_data)):\n",
    "            data[header[i]] = raw_data[i]\n",
    "        node = Node(data)\n",
    "        coordinate = data[\"UniProtKB ID\"]\n",
    "        connection_to_other_graph = {\"CSA_functional_sites\": [data[\"PDB ID\"]]}\n",
    "        graph_manager.add_node_to_graph(\"CSA_protein_index\", coordinate, node, set(), connection_to_other_graph)"
   ]
  },
  {
   "cell_type": "code",
   "execution_count": 4,
   "metadata": {
    "collapsed": false,
    "scrolled": true
   },
   "outputs": [
    {
     "name": "stdout",
     "output_type": "stream",
     "text": [
      "{'12as'}\n",
      "{'P00963'}\n"
     ]
    },
    {
     "name": "stderr",
     "output_type": "stream",
     "text": [
      "/Users/DevinPetersohn/software_builds/g_graph/graphlib.py:48: Warning: clustal_omega_msa is not yet in this Graph Collection. Creating...\n",
      "  warnings.warn(str(graph_id) + \" is not yet in this Graph Collection. Creating...\", Warning)\n",
      "/Users/DevinPetersohn/software_builds/g_graph/graphlib.py:56: Warning: MSA_position is not yet in this Graph Collection. Creating...\n",
      "  warnings.warn(str(new_conn) + \" is not yet in this Graph Collection. Creating...\", Warning)\n",
      "/Users/DevinPetersohn/software_builds/g_graph/graphlib.py:56: Warning: amino_acid is not yet in this Graph Collection. Creating...\n",
      "  warnings.warn(str(new_conn) + \" is not yet in this Graph Collection. Creating...\", Warning)\n",
      "/Users/DevinPetersohn/software_builds/g_graph/graphlib.py:56: Warning: P63882_genome_graph is not yet in this Graph Collection. Creating...\n",
      "  warnings.warn(str(new_conn) + \" is not yet in this Graph Collection. Creating...\", Warning)\n",
      "/Users/DevinPetersohn/software_builds/g_graph/graphlib.py:56: Warning: P63880_genome_graph is not yet in this Graph Collection. Creating...\n",
      "  warnings.warn(str(new_conn) + \" is not yet in this Graph Collection. Creating...\", Warning)\n",
      "/Users/DevinPetersohn/software_builds/g_graph/graphlib.py:56: Warning: Q96US9_genome_graph is not yet in this Graph Collection. Creating...\n",
      "  warnings.warn(str(new_conn) + \" is not yet in this Graph Collection. Creating...\", Warning)\n",
      "/Users/DevinPetersohn/software_builds/g_graph/graphlib.py:56: Warning: Q96UT0_genome_graph is not yet in this Graph Collection. Creating...\n",
      "  warnings.warn(str(new_conn) + \" is not yet in this Graph Collection. Creating...\", Warning)\n",
      "/Users/DevinPetersohn/software_builds/g_graph/graphlib.py:56: Warning: P00590_genome_graph is not yet in this Graph Collection. Creating...\n",
      "  warnings.warn(str(new_conn) + \" is not yet in this Graph Collection. Creating...\", Warning)\n",
      "/Users/DevinPetersohn/software_builds/g_graph/graphlib.py:56: Warning: Q99174_genome_graph is not yet in this Graph Collection. Creating...\n",
      "  warnings.warn(str(new_conn) + \" is not yet in this Graph Collection. Creating...\", Warning)\n",
      "/Users/DevinPetersohn/software_builds/g_graph/graphlib.py:56: Warning: P29292_genome_graph is not yet in this Graph Collection. Creating...\n",
      "  warnings.warn(str(new_conn) + \" is not yet in this Graph Collection. Creating...\", Warning)\n",
      "/Users/DevinPetersohn/software_builds/g_graph/graphlib.py:56: Warning: P30272_genome_graph is not yet in this Graph Collection. Creating...\n",
      "  warnings.warn(str(new_conn) + \" is not yet in this Graph Collection. Creating...\", Warning)\n",
      "/Users/DevinPetersohn/software_builds/g_graph/graphlib.py:56: Warning: P41744_genome_graph is not yet in this Graph Collection. Creating...\n",
      "  warnings.warn(str(new_conn) + \" is not yet in this Graph Collection. Creating...\", Warning)\n",
      "/Users/DevinPetersohn/software_builds/g_graph/graphlib.py:56: Warning: P11373_genome_graph is not yet in this Graph Collection. Creating...\n",
      "  warnings.warn(str(new_conn) + \" is not yet in this Graph Collection. Creating...\", Warning)\n",
      "/Users/DevinPetersohn/software_builds/g_graph/graphlib.py:56: Warning: P10951_genome_graph is not yet in this Graph Collection. Creating...\n",
      "  warnings.warn(str(new_conn) + \" is not yet in this Graph Collection. Creating...\", Warning)\n",
      "/Users/DevinPetersohn/software_builds/g_graph/graphlib.py:56: Warning: Q2U199_genome_graph is not yet in this Graph Collection. Creating...\n",
      "  warnings.warn(str(new_conn) + \" is not yet in this Graph Collection. Creating...\", Warning)\n",
      "/Users/DevinPetersohn/software_builds/g_graph/graphlib.py:56: Warning: B8NCM8_genome_graph is not yet in this Graph Collection. Creating...\n",
      "  warnings.warn(str(new_conn) + \" is not yet in this Graph Collection. Creating...\", Warning)\n",
      "/Users/DevinPetersohn/software_builds/g_graph/graphlib.py:56: Warning: A2R2W3_genome_graph is not yet in this Graph Collection. Creating...\n",
      "  warnings.warn(str(new_conn) + \" is not yet in this Graph Collection. Creating...\", Warning)\n",
      "/Users/DevinPetersohn/software_builds/g_graph/graphlib.py:56: Warning: Q5AX00_genome_graph is not yet in this Graph Collection. Creating...\n",
      "  warnings.warn(str(new_conn) + \" is not yet in this Graph Collection. Creating...\", Warning)\n",
      "/Users/DevinPetersohn/software_builds/g_graph/graphlib.py:56: Warning: Q0CRP4_genome_graph is not yet in this Graph Collection. Creating...\n",
      "  warnings.warn(str(new_conn) + \" is not yet in this Graph Collection. Creating...\", Warning)\n",
      "/Users/DevinPetersohn/software_builds/g_graph/graphlib.py:56: Warning: Q0CW01_genome_graph is not yet in this Graph Collection. Creating...\n",
      "  warnings.warn(str(new_conn) + \" is not yet in this Graph Collection. Creating...\", Warning)\n",
      "/Users/DevinPetersohn/software_builds/g_graph/graphlib.py:56: Warning: Q0CNE3_genome_graph is not yet in this Graph Collection. Creating...\n",
      "  warnings.warn(str(new_conn) + \" is not yet in this Graph Collection. Creating...\", Warning)\n",
      "/Users/DevinPetersohn/software_builds/g_graph/graphlib.py:56: Warning: A1C9G0_genome_graph is not yet in this Graph Collection. Creating...\n",
      "  warnings.warn(str(new_conn) + \" is not yet in this Graph Collection. Creating...\", Warning)\n",
      "/Users/DevinPetersohn/software_builds/g_graph/graphlib.py:56: Warning: Q4W9Z4_genome_graph is not yet in this Graph Collection. Creating...\n",
      "  warnings.warn(str(new_conn) + \" is not yet in this Graph Collection. Creating...\", Warning)\n",
      "/Users/DevinPetersohn/software_builds/g_graph/graphlib.py:56: Warning: A1D9W1_genome_graph is not yet in this Graph Collection. Creating...\n",
      "  warnings.warn(str(new_conn) + \" is not yet in this Graph Collection. Creating...\", Warning)\n",
      "/Users/DevinPetersohn/software_builds/g_graph/graphlib.py:56: Warning: Q5B2C1_genome_graph is not yet in this Graph Collection. Creating...\n",
      "  warnings.warn(str(new_conn) + \" is not yet in this Graph Collection. Creating...\", Warning)\n",
      "/Users/DevinPetersohn/software_builds/g_graph/graphlib.py:56: Warning: Q0CD01_genome_graph is not yet in this Graph Collection. Creating...\n",
      "  warnings.warn(str(new_conn) + \" is not yet in this Graph Collection. Creating...\", Warning)\n",
      "/Users/DevinPetersohn/software_builds/g_graph/graphlib.py:56: Warning: A1CSZ4_genome_graph is not yet in this Graph Collection. Creating...\n",
      "  warnings.warn(str(new_conn) + \" is not yet in this Graph Collection. Creating...\", Warning)\n",
      "/Users/DevinPetersohn/software_builds/g_graph/graphlib.py:56: Warning: Q4X1N0_genome_graph is not yet in this Graph Collection. Creating...\n",
      "  warnings.warn(str(new_conn) + \" is not yet in this Graph Collection. Creating...\", Warning)\n",
      "/Users/DevinPetersohn/software_builds/g_graph/graphlib.py:56: Warning: A1DGN0_genome_graph is not yet in this Graph Collection. Creating...\n",
      "  warnings.warn(str(new_conn) + \" is not yet in this Graph Collection. Creating...\", Warning)\n",
      "/Users/DevinPetersohn/software_builds/g_graph/graphlib.py:56: Warning: B6H2E9_genome_graph is not yet in this Graph Collection. Creating...\n",
      "  warnings.warn(str(new_conn) + \" is not yet in this Graph Collection. Creating...\", Warning)\n",
      "/Users/DevinPetersohn/software_builds/g_graph/graphlib.py:56: Warning: Q0CES4_genome_graph is not yet in this Graph Collection. Creating...\n",
      "  warnings.warn(str(new_conn) + \" is not yet in this Graph Collection. Creating...\", Warning)\n",
      "/Users/DevinPetersohn/software_builds/g_graph/graphlib.py:56: Warning: B6HLS9_genome_graph is not yet in this Graph Collection. Creating...\n",
      "  warnings.warn(str(new_conn) + \" is not yet in this Graph Collection. Creating...\", Warning)\n",
      "/Users/DevinPetersohn/software_builds/g_graph/graphlib.py:56: Warning: Q5AVY9_genome_graph is not yet in this Graph Collection. Creating...\n",
      "  warnings.warn(str(new_conn) + \" is not yet in this Graph Collection. Creating...\", Warning)\n",
      "/Users/DevinPetersohn/software_builds/g_graph/graphlib.py:56: Warning: P52956_genome_graph is not yet in this Graph Collection. Creating...\n",
      "  warnings.warn(str(new_conn) + \" is not yet in this Graph Collection. Creating...\", Warning)\n",
      "/Users/DevinPetersohn/software_builds/g_graph/graphlib.py:56: Warning: A5ABE6_genome_graph is not yet in this Graph Collection. Creating...\n",
      "  warnings.warn(str(new_conn) + \" is not yet in this Graph Collection. Creating...\", Warning)\n",
      "/Users/DevinPetersohn/software_builds/g_graph/graphlib.py:56: Warning: Q2TZY7_genome_graph is not yet in this Graph Collection. Creating...\n",
      "  warnings.warn(str(new_conn) + \" is not yet in this Graph Collection. Creating...\", Warning)\n",
      "/Users/DevinPetersohn/software_builds/g_graph/graphlib.py:56: Warning: B8NBB2_genome_graph is not yet in this Graph Collection. Creating...\n",
      "  warnings.warn(str(new_conn) + \" is not yet in this Graph Collection. Creating...\", Warning)\n",
      "/Users/DevinPetersohn/software_builds/g_graph/graphlib.py:56: Warning: Q4WQV2_genome_graph is not yet in this Graph Collection. Creating...\n",
      "  warnings.warn(str(new_conn) + \" is not yet in this Graph Collection. Creating...\", Warning)\n",
      "/Users/DevinPetersohn/software_builds/g_graph/graphlib.py:56: Warning: A1CVT3_genome_graph is not yet in this Graph Collection. Creating...\n",
      "  warnings.warn(str(new_conn) + \" is not yet in this Graph Collection. Creating...\", Warning)\n",
      "/Users/DevinPetersohn/software_builds/g_graph/graphlib.py:56: Warning: Q8X1P1_genome_graph is not yet in this Graph Collection. Creating...\n",
      "  warnings.warn(str(new_conn) + \" is not yet in this Graph Collection. Creating...\", Warning)\n",
      "/Users/DevinPetersohn/software_builds/g_graph/graphlib.py:56: Warning: Q9Y7G8_genome_graph is not yet in this Graph Collection. Creating...\n",
      "  warnings.warn(str(new_conn) + \" is not yet in this Graph Collection. Creating...\", Warning)\n",
      "/Users/DevinPetersohn/software_builds/g_graph/graphlib.py:56: Warning: Q8TGB8_genome_graph is not yet in this Graph Collection. Creating...\n",
      "  warnings.warn(str(new_conn) + \" is not yet in this Graph Collection. Creating...\", Warning)\n",
      "/Users/DevinPetersohn/software_builds/g_graph/graphlib.py:56: Warning: Q00298_genome_graph is not yet in this Graph Collection. Creating...\n",
      "  warnings.warn(str(new_conn) + \" is not yet in this Graph Collection. Creating...\", Warning)\n"
     ]
    }
   ],
   "source": [
    "x = graph_manager.get_graph(\"CSA_protein_index\")\n",
    "\n",
    "print(ray.get(ray.get(x.get_inter_graph_connections.remote())['P00963']['CSA_functional_sites']))\n",
    "\n",
    "y = graph_manager.get_graph(\"CSA_functional_sites\")\n",
    "\n",
    "print(ray.get(ray.get(y.get_inter_graph_connections.remote())['12as']['CSA_protein_index']))\n",
    "\n",
    "def insert_msa_into_graph_clustal_omega(file):\n",
    "    with open(file, \"r\") as infile:\n",
    "        infile.readline() # get rid of that first line\n",
    "        \n",
    "        msa_position_counter = {}\n",
    "        residue_counter = {}\n",
    "        for line in infile:\n",
    "            if line[0] == \"\\n\" or line[0] == \" \":\n",
    "                continue\n",
    "\n",
    "            data = line.rstrip(\"\\n\").split(\"     \")\n",
    "            uniprot_id = data[0].split(\".\")[0]\n",
    "            alignment = data[1]\n",
    "            \n",
    "            if uniprot_id not in msa_position_counter:\n",
    "                msa_position_counter[uniprot_id] = 0\n",
    "            \n",
    "            for amino_acid in alignment:\n",
    "                neighbors = []\n",
    "                if msa_position_counter[uniprot_id] != 0:\n",
    "                    neighbors.append(msa_position_counter[uniprot_id] - 1)\n",
    "                neighbors.append(msa_position_counter[uniprot_id] + 1)\n",
    "                \n",
    "                node = Node(amino_acid)\n",
    "                \n",
    "                connection_to_other_graph = {}\n",
    "                connection_to_other_graph[\"CSA_protein_index\"] = [uniprot_id]\n",
    "                connection_to_other_graph[\"MSA_position\"] = [msa_position_counter[uniprot_id]]\n",
    "\n",
    "                if amino_acid != \"-\":\n",
    "                    if not uniprot_id in residue_counter:\n",
    "                        residue_counter[uniprot_id] = 0\n",
    "                        \n",
    "                    connection_to_other_graph[\"amino_acid\"] = [amino_acid]\n",
    "                    connection_to_other_graph[uniprot_id + \"_genome_graph\"] = [residue_counter[uniprot_id]]\n",
    "                    residue_counter[uniprot_id] += 1\n",
    "                \n",
    "                graph_manager.add_node_to_graph(\"clustal_omega_msa\", \n",
    "                                                str(uniprot_id) + \"\\t\" + str(msa_position_counter[uniprot_id]),\n",
    "                                                node,\n",
    "                                                neighbors,\n",
    "                                                connection_to_other_graph)\n",
    "                \n",
    "                msa_position_counter[uniprot_id] += 1\n",
    "                \n",
    "insert_msa_into_graph_clustal_omega(\"/Users/DevinPetersohn/Desktop/ProjectData/clustal_omega_1agy.txt\")"
   ]
  },
  {
   "cell_type": "code",
   "execution_count": 5,
   "metadata": {
    "collapsed": false
   },
   "outputs": [
    {
     "name": "stdout",
     "output_type": "stream",
     "text": [
      "{100}\n"
     ]
    }
   ],
   "source": [
    "x = graph_manager.get_graph(\"clustal_omega_msa\")\n",
    "print(ray.get(ray.get(x.get_inter_graph_connections.remote())['P63882\\t100'][\"MSA_position\"]))"
   ]
  },
  {
   "cell_type": "code",
   "execution_count": 6,
   "metadata": {
    "collapsed": true
   },
   "outputs": [],
   "source": [
    "def insert_msa_into_graph_fasta_aln(file, msa_program):\n",
    "    with open(file, \"r\") as infile:\n",
    "        \n",
    "        for line in infile:\n",
    "            if line[0] == '>':\n",
    "                if len(line.split(\"|\")) > 1:\n",
    "                    uniprot_id = line.split(\"|\")[3].split(\".\")[0]\n",
    "                else:\n",
    "                    uniprot_id = line.split(\" \")[0].split(\">\")[1].split(\".\")[0]\n",
    "                msa_position_counter = 0\n",
    "                residue_counter = 0\n",
    "            else:\n",
    "                for amino_acid in line:\n",
    "                    neighbors = []\n",
    "                    if msa_position_counter != 0:\n",
    "                        neighbors.append(msa_position_counter - 1)\n",
    "                    neighbors.append(msa_position_counter + 1)\n",
    "\n",
    "                    node = Node(amino_acid)\n",
    "\n",
    "                    connection_to_other_graph = {}\n",
    "                    connection_to_other_graph[\"CSA_protein_index\"] = [uniprot_id]\n",
    "                    connection_to_other_graph[\"MSA_position\"] = [msa_position_counter]\n",
    "\n",
    "                    if amino_acid != \"-\":\n",
    "                        connection_to_other_graph[\"amino_acid\"] = [amino_acid]\n",
    "                        connection_to_other_graph[uniprot_id + \"_genome_graph\"] = [residue_counter]\n",
    "                        residue_counter += 1\n",
    "\n",
    "                    graph_manager.add_node_to_graph(msa_program, \n",
    "                                                    str(uniprot_id) + \"\\t\" + str(msa_position_counter),\n",
    "                                                    node,\n",
    "                                                    neighbors,\n",
    "                                                    connection_to_other_graph)\n",
    "\n",
    "                    msa_position_counter += 1\n",
    "                    "
   ]
  },
  {
   "cell_type": "code",
   "execution_count": 7,
   "metadata": {
    "collapsed": false
   },
   "outputs": [
    {
     "name": "stderr",
     "output_type": "stream",
     "text": [
      "/Users/DevinPetersohn/software_builds/g_graph/graphlib.py:48: Warning: muscle_msa is not yet in this Graph Collection. Creating...\n",
      "  warnings.warn(str(graph_id) + \" is not yet in this Graph Collection. Creating...\", Warning)\n"
     ]
    }
   ],
   "source": [
    "insert_msa_into_graph_fasta_aln(\"/Users/DevinPetersohn/Desktop/ProjectData/muscle_1agy.txt\", \"muscle_msa\")"
   ]
  },
  {
   "cell_type": "code",
   "execution_count": 8,
   "metadata": {
    "collapsed": false
   },
   "outputs": [
    {
     "name": "stdout",
     "output_type": "stream",
     "text": [
      "{69}\n"
     ]
    }
   ],
   "source": [
    "x = graph_manager.get_graph(\"muscle_msa\")\n",
    "print(ray.get(ray.get(x.get_inter_graph_connections.remote())['P63882\\t100'][\"P63882_genome_graph\"]))"
   ]
  },
  {
   "cell_type": "code",
   "execution_count": 9,
   "metadata": {
    "collapsed": false
   },
   "outputs": [
    {
     "name": "stderr",
     "output_type": "stream",
     "text": [
      "/Users/DevinPetersohn/software_builds/g_graph/graphlib.py:48: Warning: cobalt_msa is not yet in this Graph Collection. Creating...\n",
      "  warnings.warn(str(graph_id) + \" is not yet in this Graph Collection. Creating...\", Warning)\n"
     ]
    }
   ],
   "source": [
    "insert_msa_into_graph_fasta_aln(\"/Users/DevinPetersohn/Desktop/ProjectData/cobalt_1agy.txt\", \"cobalt_msa\")"
   ]
  },
  {
   "cell_type": "code",
   "execution_count": 10,
   "metadata": {
    "collapsed": false
   },
   "outputs": [
    {
     "name": "stdout",
     "output_type": "stream",
     "text": [
      "Remote function \u001b[31mget_inter_graph_connections\u001b[39m failed with:\n",
      "\n",
      "Traceback (most recent call last):\n",
      "  File \"/Users/DevinPetersohn/anaconda/envs/python36/lib/python3.6/site-packages/ray/worker.py\", line 786, in _process_task\n",
      "    self._store_outputs_in_objstore(return_object_ids, outputs)\n",
      "  File \"/Users/DevinPetersohn/anaconda/envs/python36/lib/python3.6/site-packages/ray/worker.py\", line 713, in _store_outputs_in_objstore\n",
      "    self.put_object(objectids[i], outputs[i])\n",
      "  File \"/Users/DevinPetersohn/anaconda/envs/python36/lib/python3.6/site-packages/ray/worker.py\", line 355, in put_object\n",
      "    self.store_and_register(object_id, value)\n",
      "  File \"/Users/DevinPetersohn/anaconda/envs/python36/lib/python3.6/site-packages/ray/worker.py\", line 290, in store_and_register\n",
      "    object_id.id()), self.serialization_context)\n",
      "  File \"plasma.pyx\", line 395, in pyarrow.plasma.PlasmaClient.put\n",
      "  File \"plasma.pyx\", line 301, in pyarrow.plasma.PlasmaClient.create\n",
      "  File \"error.pxi\", line 93, in pyarrow.lib.check_status\n",
      "pyarrow.lib.PlasmaStoreFull: object does not fit in the plasma store\n",
      "\n",
      "\n",
      "  You can inspect errors by running\n",
      "\n",
      "      ray.error_info()\n",
      "\n",
      "  If this driver is hanging, start a new one with\n",
      "\n",
      "      ray.init(redis_address=\"127.0.0.1:16765\")\n",
      "  \n"
     ]
    },
    {
     "ename": "RayGetError",
     "evalue": "Could not get objectid ObjectID(669c66fe4da82c77ca3da0943d520c99d0076ab3). It was created by remote function \u001b[31mget_inter_graph_connections\u001b[39m which failed with:\n\nRemote function \u001b[31mget_inter_graph_connections\u001b[39m failed with:\n\nTraceback (most recent call last):\n  File \"/Users/DevinPetersohn/anaconda/envs/python36/lib/python3.6/site-packages/ray/worker.py\", line 786, in _process_task\n    self._store_outputs_in_objstore(return_object_ids, outputs)\n  File \"/Users/DevinPetersohn/anaconda/envs/python36/lib/python3.6/site-packages/ray/worker.py\", line 713, in _store_outputs_in_objstore\n    self.put_object(objectids[i], outputs[i])\n  File \"/Users/DevinPetersohn/anaconda/envs/python36/lib/python3.6/site-packages/ray/worker.py\", line 355, in put_object\n    self.store_and_register(object_id, value)\n  File \"/Users/DevinPetersohn/anaconda/envs/python36/lib/python3.6/site-packages/ray/worker.py\", line 290, in store_and_register\n    object_id.id()), self.serialization_context)\n  File \"plasma.pyx\", line 395, in pyarrow.plasma.PlasmaClient.put\n  File \"plasma.pyx\", line 301, in pyarrow.plasma.PlasmaClient.create\n  File \"error.pxi\", line 93, in pyarrow.lib.check_status\npyarrow.lib.PlasmaStoreFull: object does not fit in the plasma store\n",
     "output_type": "error",
     "traceback": [
      "\u001b[0;31m---------------------------------------------------------------------------\u001b[0m",
      "\u001b[0;31mRayGetError\u001b[0m                               Traceback (most recent call last)",
      "\u001b[0;32m<ipython-input-10-96e0d4127336>\u001b[0m in \u001b[0;36m<module>\u001b[0;34m()\u001b[0m\n\u001b[1;32m      1\u001b[0m \u001b[0mx\u001b[0m \u001b[0;34m=\u001b[0m \u001b[0mgraph_manager\u001b[0m\u001b[0;34m.\u001b[0m\u001b[0mget_graph\u001b[0m\u001b[0;34m(\u001b[0m\u001b[0;34m\"cobalt_msa\"\u001b[0m\u001b[0;34m)\u001b[0m\u001b[0;34m\u001b[0m\u001b[0m\n\u001b[0;32m----> 2\u001b[0;31m \u001b[0mprint\u001b[0m\u001b[0;34m(\u001b[0m\u001b[0mray\u001b[0m\u001b[0;34m.\u001b[0m\u001b[0mget\u001b[0m\u001b[0;34m(\u001b[0m\u001b[0mray\u001b[0m\u001b[0;34m.\u001b[0m\u001b[0mget\u001b[0m\u001b[0;34m(\u001b[0m\u001b[0mx\u001b[0m\u001b[0;34m.\u001b[0m\u001b[0mget_inter_graph_connections\u001b[0m\u001b[0;34m.\u001b[0m\u001b[0mremote\u001b[0m\u001b[0;34m(\u001b[0m\u001b[0;34m)\u001b[0m\u001b[0;34m)\u001b[0m\u001b[0;34m[\u001b[0m\u001b[0;34m'P63882\\t100'\u001b[0m\u001b[0;34m]\u001b[0m\u001b[0;34m[\u001b[0m\u001b[0;34m\"P63882_genome_graph\"\u001b[0m\u001b[0;34m]\u001b[0m\u001b[0;34m)\u001b[0m\u001b[0;34m)\u001b[0m\u001b[0;34m\u001b[0m\u001b[0m\n\u001b[0m",
      "\u001b[0;32m~/anaconda/envs/python36/lib/python3.6/site-packages/ray/worker.py\u001b[0m in \u001b[0;36mget\u001b[0;34m(object_ids, worker)\u001b[0m\n\u001b[1;32m   2143\u001b[0m                 \u001b[0;31m# this object failed, and we should propagate the error message\u001b[0m\u001b[0;34m\u001b[0m\u001b[0;34m\u001b[0m\u001b[0m\n\u001b[1;32m   2144\u001b[0m                 \u001b[0;31m# here.\u001b[0m\u001b[0;34m\u001b[0m\u001b[0;34m\u001b[0m\u001b[0m\n\u001b[0;32m-> 2145\u001b[0;31m                 \u001b[0;32mraise\u001b[0m \u001b[0mRayGetError\u001b[0m\u001b[0;34m(\u001b[0m\u001b[0mobject_ids\u001b[0m\u001b[0;34m,\u001b[0m \u001b[0mvalue\u001b[0m\u001b[0;34m)\u001b[0m\u001b[0;34m\u001b[0m\u001b[0m\n\u001b[0m\u001b[1;32m   2146\u001b[0m             \u001b[0;32mreturn\u001b[0m \u001b[0mvalue\u001b[0m\u001b[0;34m\u001b[0m\u001b[0m\n\u001b[1;32m   2147\u001b[0m \u001b[0;34m\u001b[0m\u001b[0m\n",
      "\u001b[0;31mRayGetError\u001b[0m: Could not get objectid ObjectID(669c66fe4da82c77ca3da0943d520c99d0076ab3). It was created by remote function \u001b[31mget_inter_graph_connections\u001b[39m which failed with:\n\nRemote function \u001b[31mget_inter_graph_connections\u001b[39m failed with:\n\nTraceback (most recent call last):\n  File \"/Users/DevinPetersohn/anaconda/envs/python36/lib/python3.6/site-packages/ray/worker.py\", line 786, in _process_task\n    self._store_outputs_in_objstore(return_object_ids, outputs)\n  File \"/Users/DevinPetersohn/anaconda/envs/python36/lib/python3.6/site-packages/ray/worker.py\", line 713, in _store_outputs_in_objstore\n    self.put_object(objectids[i], outputs[i])\n  File \"/Users/DevinPetersohn/anaconda/envs/python36/lib/python3.6/site-packages/ray/worker.py\", line 355, in put_object\n    self.store_and_register(object_id, value)\n  File \"/Users/DevinPetersohn/anaconda/envs/python36/lib/python3.6/site-packages/ray/worker.py\", line 290, in store_and_register\n    object_id.id()), self.serialization_context)\n  File \"plasma.pyx\", line 395, in pyarrow.plasma.PlasmaClient.put\n  File \"plasma.pyx\", line 301, in pyarrow.plasma.PlasmaClient.create\n  File \"error.pxi\", line 93, in pyarrow.lib.check_status\npyarrow.lib.PlasmaStoreFull: object does not fit in the plasma store\n"
     ]
    }
   ],
   "source": [
    "x = graph_manager.get_graph(\"cobalt_msa\")\n",
    "print(ray.get(ray.get(x.get_inter_graph_connections.remote())['P63882\\t100'][\"P63882_genome_graph\"]))"
   ]
  },
  {
   "cell_type": "code",
   "execution_count": null,
   "metadata": {
    "collapsed": false
   },
   "outputs": [],
   "source": [
    "print(1)"
   ]
  },
  {
   "cell_type": "code",
   "execution_count": null,
   "metadata": {
    "collapsed": true
   },
   "outputs": [],
   "source": []
  }
 ],
 "metadata": {
  "kernelspec": {
   "display_name": "Python 3",
   "language": "python",
   "name": "python3"
  },
  "language_info": {
   "codemirror_mode": {
    "name": "ipython",
    "version": 3
   },
   "file_extension": ".py",
   "mimetype": "text/x-python",
   "name": "python",
   "nbconvert_exporter": "python",
   "pygments_lexer": "ipython3",
   "version": "3.6.2"
  }
 },
 "nbformat": 4,
 "nbformat_minor": 0
}
